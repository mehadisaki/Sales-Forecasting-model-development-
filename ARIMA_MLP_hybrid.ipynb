{
  "nbformat": 4,
  "nbformat_minor": 0,
  "metadata": {
    "colab": {
      "name": "ARIMA-MLP_hybrid.ipynb",
      "provenance": [],
      "collapsed_sections": [
        "APyWO6P5tzbU",
        "85gsEOhbu-Ub",
        "b-ekndA50qyd"
      ],
      "toc_visible": true,
      "authorship_tag": "ABX9TyOudsM8g2ICB2lUJ2Ks4kho",
      "include_colab_link": true
    },
    "kernelspec": {
      "name": "python3",
      "display_name": "Python 3"
    },
    "language_info": {
      "name": "python"
    }
  },
  "cells": [
    {
      "cell_type": "markdown",
      "metadata": {
        "id": "view-in-github",
        "colab_type": "text"
      },
      "source": [
        "<a href=\"https://colab.research.google.com/github/mehadisaki/Sales-Forecasting-model-development-/blob/main/ARIMA_MLP_hybrid.ipynb\" target=\"_parent\"><img src=\"https://colab.research.google.com/assets/colab-badge.svg\" alt=\"Open In Colab\"/></a>"
      ]
    },
    {
      "cell_type": "code",
      "source": [
        "! pip install pmdarima"
      ],
      "metadata": {
        "colab": {
          "base_uri": "https://localhost:8080/"
        },
        "id": "taOQrq6BvC8i",
        "outputId": "8e10d3e1-1509-4ff1-bdb9-ebd0cb3e69c1"
      },
      "execution_count": 1,
      "outputs": [
        {
          "output_type": "stream",
          "name": "stdout",
          "text": [
            "Requirement already satisfied: pmdarima in /usr/local/lib/python3.7/dist-packages (1.8.5)\n",
            "Requirement already satisfied: Cython!=0.29.18,>=0.29 in /usr/local/lib/python3.7/dist-packages (from pmdarima) (0.29.28)\n",
            "Requirement already satisfied: pandas>=0.19 in /usr/local/lib/python3.7/dist-packages (from pmdarima) (1.3.5)\n",
            "Requirement already satisfied: scikit-learn>=0.22 in /usr/local/lib/python3.7/dist-packages (from pmdarima) (1.0.2)\n",
            "Requirement already satisfied: statsmodels!=0.12.0,>=0.11 in /usr/local/lib/python3.7/dist-packages (from pmdarima) (0.13.2)\n",
            "Requirement already satisfied: urllib3 in /usr/local/lib/python3.7/dist-packages (from pmdarima) (1.24.3)\n",
            "Requirement already satisfied: joblib>=0.11 in /usr/local/lib/python3.7/dist-packages (from pmdarima) (1.1.0)\n",
            "Requirement already satisfied: setuptools!=50.0.0,>=38.6.0 in /usr/local/lib/python3.7/dist-packages (from pmdarima) (57.4.0)\n",
            "Requirement already satisfied: numpy>=1.19.3 in /usr/local/lib/python3.7/dist-packages (from pmdarima) (1.21.6)\n",
            "Requirement already satisfied: scipy>=1.3.2 in /usr/local/lib/python3.7/dist-packages (from pmdarima) (1.4.1)\n",
            "Requirement already satisfied: python-dateutil>=2.7.3 in /usr/local/lib/python3.7/dist-packages (from pandas>=0.19->pmdarima) (2.8.2)\n",
            "Requirement already satisfied: pytz>=2017.3 in /usr/local/lib/python3.7/dist-packages (from pandas>=0.19->pmdarima) (2022.1)\n",
            "Requirement already satisfied: six>=1.5 in /usr/local/lib/python3.7/dist-packages (from python-dateutil>=2.7.3->pandas>=0.19->pmdarima) (1.15.0)\n",
            "Requirement already satisfied: threadpoolctl>=2.0.0 in /usr/local/lib/python3.7/dist-packages (from scikit-learn>=0.22->pmdarima) (3.1.0)\n",
            "Requirement already satisfied: patsy>=0.5.2 in /usr/local/lib/python3.7/dist-packages (from statsmodels!=0.12.0,>=0.11->pmdarima) (0.5.2)\n",
            "Requirement already satisfied: packaging>=21.3 in /usr/local/lib/python3.7/dist-packages (from statsmodels!=0.12.0,>=0.11->pmdarima) (21.3)\n",
            "Requirement already satisfied: pyparsing!=3.0.5,>=2.0.2 in /usr/local/lib/python3.7/dist-packages (from packaging>=21.3->statsmodels!=0.12.0,>=0.11->pmdarima) (3.0.8)\n"
          ]
        }
      ]
    },
    {
      "cell_type": "code",
      "source": [
        "from pathlib import Path\n",
        "import pandas as pd\n",
        "from pmdarima.arima import auto_arima\n",
        "from sklearn.model_selection import train_test_split\n",
        "from statsmodels.tsa.arima_model import ARIMA\n",
        "from sklearn.preprocessing import MinMaxScaler\n",
        "import matplotlib.pyplot as plt\n",
        "#from keras.utils import plot_model\n",
        "from keras.utils.vis_utils import plot_model\n",
        "from keras.callbacks import EarlyStopping\n",
        "from tensorflow.keras.optimizers import Adam\n"
      ],
      "metadata": {
        "id": "0OcMJZCEyHJq"
      },
      "execution_count": 2,
      "outputs": []
    },
    {
      "cell_type": "markdown",
      "source": [
        "# Function"
      ],
      "metadata": {
        "id": "AW_GUoYyvjFB"
      }
    },
    {
      "cell_type": "markdown",
      "source": [
        "##MLP"
      ],
      "metadata": {
        "id": "3vLhB-fYuBuh"
      }
    },
    {
      "cell_type": "code",
      "execution_count": 3,
      "metadata": {
        "id": "Ltp2wEzHq3L_"
      },
      "outputs": [],
      "source": [
        "import numpy as np\n",
        "from statsmodels.tsa import stattools\n",
        "import matplotlib.pyplot as plt\n",
        "import pandas as pd\n",
        "from keras.models import Sequential\n",
        "from keras.layers import Dense\n",
        "from keras.wrappers.scikit_learn import KerasRegressor\n",
        "from sklearn.model_selection import GridSearchCV\n",
        "from tensorflow import keras\n",
        "#from keras.optimizers import SGD\n",
        "from keras.optimizers import gradient_descent_v2\n",
        "from sklearn.model_selection import TimeSeriesSplit\n",
        "from keras.constraints import maxnorm\n",
        "from keras.layers import Dropout\n",
        "from tensorflow.keras.optimizers import Adam\n",
        "from tensorflow.keras.layers import Flatten\n",
        "import tensorflow as tf\n",
        "#from Models.Misc import *\n",
        "from sklearn.model_selection import RandomizedSearchCV\n",
        "import keras.backend as K\n",
        "\n",
        "\n",
        "SGD = gradient_descent_v2\n",
        "\n",
        "\n",
        "tf.random.set_seed(123)\n",
        "\n",
        "\n",
        "\n",
        "\n",
        "def create_regressor_attributes(df, attribute, list_of_prev_t_instants) :\n",
        "    \n",
        "    \"\"\"\n",
        "    Function to convert a time series into a supervised learning problem.\n",
        "    ...\n",
        "\n",
        "    Attributes\n",
        "    ----------\n",
        "    df : Dataframe\n",
        "        Dataframe of stock data.\n",
        "    attribute : list\n",
        "        List of columns used for creating the supervised learning problem. \n",
        "    list_of_prev_t_instants : list\n",
        "    \n",
        "    df : list\n",
        "    \n",
        "    \"\"\"\n",
        "        \n",
        "    list_of_prev_t_instants.sort()\n",
        "    start = list_of_prev_t_instants[-1] \n",
        "    end = len(df)\n",
        "    df['datetime'] = df.index\n",
        "    df.reset_index(drop=True)\n",
        "\n",
        "    df_copy = df[start:end]\n",
        "    df_copy.reset_index(inplace=True, drop=True)\n",
        "\n",
        "    for attribute in attribute :\n",
        "            foobar = pd.DataFrame()\n",
        "\n",
        "            for prev_t in list_of_prev_t_instants :\n",
        "                new_col = pd.DataFrame(df[attribute].iloc[(start - prev_t) : (end - prev_t)])\n",
        "                new_col.reset_index(drop=True, inplace=True)\n",
        "                new_col.rename(columns={attribute : '{}_(t-{})'.format(attribute, prev_t)}, inplace=True)\n",
        "                foobar = pd.concat([foobar, new_col], sort=False, axis=1)\n",
        "\n",
        "            df_copy = pd.concat([df_copy, foobar], sort=False, axis=1)\n",
        "            \n",
        "    df_copy.set_index(['datetime'], drop=True, inplace=True)\n",
        "    return df_copy\n",
        "\n",
        "\n",
        "\n",
        "def find_input_dim(data):\n",
        "    \n",
        "    \"\"\"\n",
        "    Function to find the number of terms above 0.9 autocorrelation in a data set.\n",
        "    ...\n",
        "\n",
        "    Attributes\n",
        "    ----------\n",
        "    data : list, Dataframe\n",
        "    \n",
        "    \"\"\"\n",
        "    \n",
        "    acf_djia, confint_djia, qstat_djia, pvalues_djia = stattools.acf(data,\n",
        "                                                                 adjusted=True,\n",
        "                                                                 nlags=500,\n",
        "                                                                 qstat=True,\n",
        "                                                                 fft=True,\n",
        "                                                                 alpha = 0.05)\n",
        "    \n",
        "    plt.figure(figsize=(7, 5))\n",
        "    plt.plot(pd.Series(acf_djia), color='r', linewidth=2)\n",
        "    plt.title('Autocorrelation of Delivery Qty', weight='bold', fontsize=16)\n",
        "    plt.xlabel('Lag', weight='bold', fontsize=14)\n",
        "    plt.ylabel('Value', weight='bold', fontsize=14)\n",
        "    plt.xticks(weight='bold', fontsize=12, rotation=45)\n",
        "    plt.yticks(weight='bold', fontsize=12)\n",
        "    plt.grid(True)\n",
        "    \n",
        "    input_dim = sum([1 for x in acf_djia if x>0.9])\n",
        "    print(\"Number of values above 0.9 autocorrelation is: \", input_dim)\n",
        "    return input_dim\n",
        "\n",
        "\n",
        "\n",
        "def build_baseline_model(num_of_input):\n",
        "    \n",
        "    \"\"\"\n",
        "    Function to build the baseline model.\n",
        "    ...\n",
        "\n",
        "    Attributes\n",
        "    ----------\n",
        "    num_of_input : int\n",
        "        Dimension of the input layer.\n",
        "    \n",
        "    \"\"\"\n",
        "    \n",
        "    # create model\n",
        "    model = Sequential()\n",
        "    model.add(Dense(2, input_dim=num_of_input, activation='relu'))\n",
        "    model.add(Dense(1, activation='linear'))\n",
        "    # Compile model\n",
        "    model.compile(loss='mean_squared_error', optimizer='adam')\n",
        "    return model\n",
        "\n",
        "\n",
        "def get_mlp_model(input_dim, hidden_layer_one=50, hidden_layer_two=25,\n",
        "    dropout=0.2, learn_rate=0.01):\n",
        "    \n",
        "    \"\"\"\n",
        "    Function to build the MLP model. The parameters of the model will be optimised by the optimize_parameters() function.\n",
        "    ...\n",
        "\n",
        "    Attributes\n",
        "    ----------\n",
        "    input_dim: int\n",
        "        Dimension of the input layer.\n",
        "    hidden_layer_one: int\n",
        "        Size of the first hidden layer. Default value = 50.\n",
        "    hidden_layer_two: int\n",
        "        Size of the second hidden layer. Default value = 25.\n",
        "    dropout: float\n",
        "        Rate of dropout of the dropout layer. Default value = 0.2.\n",
        "    learn_rate: float\n",
        "        Amount of learning rate. Default value = 0.01.\n",
        "        \n",
        "    \"\"\"\n",
        "    \n",
        "    # initialize a sequential model and add layer to flatten the\n",
        "    # input data\n",
        "    model = Sequential()\n",
        "    #model.add(Flatten())\n",
        "    \n",
        "    model.add(Dense(hidden_layer_one, activation=\"relu\",\n",
        "        input_dim=input_dim))\n",
        "    model.add(Dropout(dropout))\n",
        "    model.add(Dense(hidden_layer_two, activation=\"relu\"))\n",
        "    model.add(Dropout(dropout))\n",
        "    model.add(Dense(1, activation='linear'))\n",
        "    # compile the model\n",
        "    model.compile(\n",
        "        optimizer=Adam(learning_rate=learn_rate),\n",
        "        loss=\"mean_squared_error\",\n",
        "        metrics=[\"mse\", \"mae\"])\n",
        "    # return compiled model\n",
        "    return model\n",
        "    \n",
        "\n",
        "\n",
        "\n",
        "    \n",
        "def baseline_test(n_iter, input_dim, X_train, y_train, X_valid, y_valid, X_test, y_test, scaler):\n",
        "    \n",
        "    \n",
        "    \"\"\"\n",
        "    Function to fit the baseline model and make prediction for n_iter amount of times.\n",
        "    ...\n",
        "\n",
        "    Attributes\n",
        "    ----------\n",
        "    n_iter: int\n",
        "        Number of times the baseline test is ran.\n",
        "    input_dim: int\n",
        "        Dimension of the input layer.\n",
        "    X_train: list\n",
        "    y_train: list\n",
        "    X_valid: list\n",
        "    y_valid: list\n",
        "    X_test: list\n",
        "    y_test: list\n",
        "    scaler: Scaler object\n",
        "    \n",
        "    \"\"\"\n",
        "        \n",
        "    baseline_MSE=[]\n",
        "    baseline_MAE=[]\n",
        "        \n",
        "    \n",
        "    for i in range(n_iter):\n",
        "        model = build_baseline_model(input_dim)\n",
        "        # train the network (i.e., no hyperparameter tuning)\n",
        "        print(\"[INFO] training model...\")\n",
        "        H = model.fit(x=X_train, y=y_train,\n",
        "            validation_data=(X_valid, y_valid),\n",
        "            batch_size=128,\n",
        "            epochs=100, verbose=0, shuffle=False)\n",
        "            # mke predictions on the test set and evaluate it\n",
        "        \n",
        "        \n",
        "        baseline_pred = model.predict(X_test)\n",
        "        baseline_pred_rescaled = scaler.inverse_transform(baseline_pred)\n",
        "        \n",
        "        \n",
        "        #plot_comparison_graph(y_test, baseline_pred_rescaled)\n",
        "        #plot_loss(H)\n",
        "        \n",
        "        measures = calculate_error_measures(y_test, baseline_pred_rescaled)\n",
        "        baseline_MSE.append(measures[0])\n",
        "        baseline_MAE.append(measures[1])\n",
        "        \n",
        "        K.clear_session()\n",
        "    \n",
        "    \n",
        "\n",
        "    return sum(baseline_MSE)/n_iter, sum(baseline_MAE)/n_iter\n",
        "\n",
        "\n",
        "\n",
        "\n",
        "def optimize_parameters(model, grid, X_train, y_train):\n",
        "    \n",
        "    \"\"\"\n",
        "    Function to optimise the MLP hyperparameters using RandomizedSearchCV. \n",
        "    ...\n",
        "\n",
        "    Attributes\n",
        "    ----------\n",
        "    model: KerasRegressor object\n",
        "        The model to be optimised. Wrapped in a KerasRegressor object for compatibility with the sklearn library.\n",
        "    grid: dictionary\n",
        "        Dictionary of list with the hyperparameter values used for optimisation.\n",
        "    X_train: list\n",
        "    y_train: list\n",
        "        \n",
        "    \"\"\"\n",
        "    \n",
        "    tss = TimeSeriesSplit(n_splits=10)\n",
        "    \n",
        "    \n",
        "    print(\"[INFO] performing random search...\")\n",
        "    searcher = RandomizedSearchCV(estimator=model, n_jobs=-1, n_iter=10, cv=tss,\n",
        "        param_distributions=grid, scoring=('neg_mean_squared_error','neg_mean_absolute_error'), refit='neg_mean_squared_error')\n",
        "    search_results = searcher.fit(X_train, y_train)\n",
        "    best_params = search_results.best_params_\n",
        "    print(\"Best parameters are: {}\".format(best_params))\n",
        "    \n",
        "    return best_params\n",
        "\n",
        "\n",
        "\n",
        "\n",
        "\n"
      ]
    },
    {
      "cell_type": "markdown",
      "source": [
        ""
      ],
      "metadata": {
        "id": "IbGsnEuHvh44"
      }
    },
    {
      "cell_type": "markdown",
      "source": [
        "##Hybrid"
      ],
      "metadata": {
        "id": "APyWO6P5tzbU"
      }
    },
    {
      "cell_type": "code",
      "source": [
        "#from Models.Misc import *\n",
        "from sklearn.metrics import mean_absolute_error\n",
        "from keras.models import Sequential\n",
        "from keras.layers import Dense\n",
        "from keras.layers import Dropout\n",
        "from tensorflow.keras.optimizers import Adam\n",
        "\n",
        "\n",
        "\n",
        "def forecast_HMLP_residuals(input_dim_hybrid, X_train, y_train, X_valid, y_valid, X_test):\n",
        "    \n",
        "    \"\"\"\n",
        "    Function to build the HMLP and forecast the residuals.\n",
        "    ...\n",
        "\n",
        "    Attributes\n",
        "    ----------\n",
        "    input_dim_hybrid: int\n",
        "        Dimension of the input layer for the HMLP.\n",
        "    X_train: list\n",
        "    y_train: list\n",
        "    X_valid: list\n",
        "    y_valid: list\n",
        "    X_test: list\n",
        "    \n",
        "    \"\"\"\n",
        "    #\n",
        "    ## define model\n",
        "    model = Sequential()\n",
        "    model.add(Dense(input_dim_hybrid, activation='tanh', input_dim=input_dim_hybrid))\n",
        "    model.add(Dense(input_dim_hybrid/2, activation='tanh'))\n",
        "    model.add(Dropout(0.5))\n",
        "    model.add(Dense(1, activation='linear'))\n",
        "    model.compile(\n",
        "            optimizer=Adam(learning_rate=0.01),\n",
        "            loss=\"mean_squared_error\",\n",
        "            metrics=[\"mse\", \"mae\"])\n",
        "    \n",
        "    model.summary()\n",
        "    \n",
        "    history_hybrid = model.fit(X_train, y_train,\n",
        "                               validation_data=(X_valid, y_valid),\n",
        "                               batch_size=32,\n",
        "                               epochs=100, verbose=False)\n",
        "    \n",
        "    pred_HMLP = model.predict(X_test)\n",
        "    \n",
        "    return pred_HMLP, history_hybrid\n",
        "\n",
        "\n",
        "def zero_centre(prediction):\n",
        "    \n",
        "    \"\"\"\n",
        "    Function to zero center the hybrid prediction.\n",
        "    ...\n",
        "\n",
        "    Attributes\n",
        "    ----------\n",
        "    prediction : list\n",
        "    \n",
        "    \"\"\"\n",
        "    \n",
        "    if prediction[0] < 0:\n",
        "        prediction = [abs(prediction[0])+i for i in prediction]\n",
        "    if prediction[0] > 0:\n",
        "        prediction = [i-prediction[0] for i in prediction]\n",
        "    else:\n",
        "        return prediction\n",
        "    return prediction\n",
        "\n"
      ],
      "metadata": {
        "id": "O549kDREsSMm"
      },
      "execution_count": 4,
      "outputs": []
    },
    {
      "cell_type": "markdown",
      "source": [
        "##Misc"
      ],
      "metadata": {
        "id": "r1zHZS3dt3aS"
      }
    },
    {
      "cell_type": "code",
      "source": [
        "import numpy as np\n",
        "from sklearn.metrics import mean_squared_error, mean_absolute_error\n",
        "from sklearn.preprocessing import MinMaxScaler\n",
        "import pandas as pd\n",
        "import matplotlib.pyplot as plt\n",
        "from sklearn.metrics import r2_score\n",
        "import time\n",
        "\n",
        "\n",
        "\n",
        "def calculate_error_measures(X, Y):\n",
        "    \n",
        "    \"\"\"\n",
        "    Function to calculate the mean squared error, mean absolute error and the coefficient of determination (r2) between two lists.\n",
        "    ...\n",
        "\n",
        "    Attributes\n",
        "    ----------\n",
        "    X : list\n",
        "    \n",
        "    Y : list\n",
        "    \n",
        "    \"\"\"\n",
        "    \n",
        "        \n",
        "    MSE = mean_squared_error(X, Y)\n",
        "    print('Mean Squared Error: ', MSE)\n",
        "    \n",
        "    MAE = mean_absolute_error(X, Y)\n",
        "    print('Mean Absolute Error: ', MAE)\n",
        "        \n",
        "    error_measures = [MSE, MAE]\n",
        "    return error_measures\n",
        "\n",
        "\n",
        "\n",
        "def create_train_valid_test(data, test_set_size, valid_set_size):\n",
        "    \n",
        "    \"\"\"\n",
        "    Function to split a dataset into training, testing and validation sets.\n",
        "    ...\n",
        "\n",
        "    Attributes\n",
        "    ----------\n",
        "    data : list\n",
        "        \n",
        "    test_set_size : int\n",
        "        Int <= 1 for size of test set.\n",
        "        \n",
        "    valid_set_size : int\n",
        "        Int <= 1 for size of validation set.   \n",
        "    \"\"\"\n",
        "    \n",
        "    \n",
        "    df_copy = data.reset_index(drop=True)\n",
        "    \n",
        "    df_test = df_copy.iloc[ int((len(df_copy)*(1-test_set_size))) : ]\n",
        "    df_train_plus_valid = df_copy.iloc[ : int((len(df_copy)*(1-test_set_size))) ]\n",
        "    \n",
        "    df_train = df_train_plus_valid.iloc[ : int((len(df_train_plus_valid)*(1-valid_set_size))) ]\n",
        "    df_valid = df_train_plus_valid.iloc[ int((len(df_train_plus_valid)*(1-valid_set_size))) : ]\n",
        "    \n",
        "    X_train, y_train = df_train.iloc[:, 1:], df_train.iloc[:, 0]\n",
        "    X_valid, y_valid = df_valid.iloc[:, 1:], df_valid.iloc[:, 0]\n",
        "    X_test, y_test = df_test.iloc[:, 1:], df_test.iloc[:, 0]\n",
        "    \n",
        "    \n",
        "    \n",
        "    print('Shape of training inputs, training target:', X_train.shape, y_train.shape)\n",
        "    print('Shape of validation inputs, validation target:', X_valid.shape, y_valid.shape)\n",
        "    print('Shape of test inputs, test target:', X_test.shape, y_test.shape)\n",
        "    \n",
        "    return X_train, y_train, X_valid, y_valid, X_test, y_test\n",
        "\n",
        "\n",
        "def scale_data(X_train, y_train, X_valid, y_valid, X_test, y_test, scaler):\n",
        "    \n",
        "    \"\"\"\n",
        "    Function to transform features by scaling them into a range a given range. A range of 0-1 is used for this project.\n",
        "    ...\n",
        "\n",
        "    Attributes\n",
        "    ----------\n",
        "    X_train : list\n",
        "    \n",
        "    y_train : list\n",
        "    \n",
        "    X_valid : list\n",
        "    \n",
        "    y_valid : list\n",
        "        \n",
        "    X_test : list\n",
        "    \n",
        "    y_test : list\n",
        "    \n",
        "    scaler : MinMaxScaler\n",
        "    \"\"\"\n",
        "    \n",
        "    \n",
        "    X_train_scaled = scaler.fit_transform(np.array(X_train))\n",
        "    X_valid_scaled = scaler.fit_transform(np.array(X_valid))\n",
        "    X_test_scaled = scaler.fit_transform(np.array(X_test))\n",
        "    \n",
        "    y_train_scaled = scaler.fit_transform(np.array(y_train).reshape(-1,1))\n",
        "    y_valid_scaled = scaler.fit_transform(np.array(y_valid).reshape(-1,1))\n",
        "    y_test_scaled = scaler.fit_transform(np.array(y_test).reshape(-1,1))\n",
        "    \n",
        "    return X_train_scaled, y_train_scaled, X_valid_scaled, y_valid_scaled, X_test_scaled, y_test_scaled\n",
        "\n",
        "\n",
        "def plot_comparison_graph(actual, prediction):\n",
        "    \n",
        "    \"\"\"\n",
        "    Function to plot a graph comparing the actual values to predicted values.\n",
        "    ...\n",
        "\n",
        "    Attributes\n",
        "    ----------\n",
        "    actual : list\n",
        "    \n",
        "    prediction : list   \n",
        "    \"\"\"\n",
        "    timestamp = time.time()\n",
        "    \n",
        "    y_actual = pd.DataFrame(actual, columns=['Actual Delivery'])\n",
        "\n",
        "    y_hat = pd.DataFrame(prediction, columns=['Predicted Delivery'])\n",
        "    \n",
        "    \n",
        "    plt.figure(figsize=(11, 6))\n",
        "    plt.plot(y_actual, linestyle='solid', color='r')\n",
        "    plt.plot(y_hat, linestyle='dashed', color='b')\n",
        "    \n",
        "    plt.legend(['Actual','Predicted'], loc='best', prop={'size': 14})\n",
        "    plt.title('32\" TV delivery', weight='bold', fontsize=16)\n",
        "    plt.ylabel('Pcs', weight='bold', fontsize=14)\n",
        "    plt.xlabel('Test Set Month no.', weight='bold', fontsize=14)\n",
        "    plt.xticks(weight='bold', fontsize=12, rotation=45)\n",
        "    plt.yticks(weight='bold', fontsize=12)\n",
        "    plt.grid(True)\n",
        "    \n",
        "    #plt.savefig('Reports/{}.png'.format(timestamp))\n",
        "    \n",
        "    plt.show()\n",
        "    \n",
        "    \n",
        "def plot_loss(history):\n",
        "    \n",
        "    \"\"\"\n",
        "    Function to plot the training and validation loss of the MLP model.\n",
        "    ...\n",
        "\n",
        "    Attributes\n",
        "    ----------\n",
        "    history :  History object  \n",
        "    \"\"\"\n",
        "    \n",
        "    plt.figure(figsize=(11, 6))\n",
        "    history_dict=history.history\n",
        "    loss_values = history_dict['loss']\n",
        "    val_loss_values=history_dict['val_loss']\n",
        "    plt.plot(loss_values,'bo',label='Training loss')\n",
        "    plt.plot(val_loss_values,'r',label='Validation loss')\n",
        "    plt.legend()\n",
        "    \n",
        "    \n",
        "    \n",
        "def load_data(ETF):\n",
        "    \n",
        "    \"\"\"\n",
        "    Function to load the ETF data from a file, remove NaN values and set the Date column as index.\n",
        "    ...\n",
        "\n",
        "    Attributes\n",
        "    ----------\n",
        "    ETF : filepath\n",
        "    \"\"\"\n",
        "    \n",
        "    \n",
        "    data = pd.read_csv(ETF, usecols=[0,4], parse_dates=[0], header=0)\n",
        "\n",
        "    data.dropna(subset = ['Close', 'Date'], inplace=True)\n",
        "    \n",
        "    data_close = pd.DataFrame(data['Close'])\n",
        "    data_close.index = pd.to_datetime(data['Date'])\n",
        "    \n",
        "    return data_close\n",
        "\n",
        "\n",
        "\n",
        "def equal_size(list1, list2):\n",
        "    \n",
        "    \"\"\"\n",
        "    Function to equalise the size of two lists.\n",
        "    ...\n",
        "\n",
        "    Attributes\n",
        "    ----------\n",
        "    list1: list\n",
        "    list2: list\n",
        "    \n",
        "    \"\"\"\n",
        "    \n",
        "    if len(list1) > len(list2):\n",
        "        s = len(list1)-len(list2)\n",
        "        list1 = list1[:-s]\n",
        "        return list1, list2\n",
        "    if len(list2) > len(list1):\n",
        "        s = len(list2)-len(list1)\n",
        "        list2 = list2[:-s]\n",
        "        return list1, list2\n",
        "    else:\n",
        "        return list1, list2\n",
        "        \n"
      ],
      "metadata": {
        "id": "Co1Totqdtn1T"
      },
      "execution_count": 5,
      "outputs": []
    },
    {
      "cell_type": "markdown",
      "source": [
        "##ARIMA"
      ],
      "metadata": {
        "id": "85gsEOhbu-Ub"
      }
    },
    {
      "cell_type": "code",
      "source": [
        "from pmdarima.arima import ndiffs\n",
        "import statsmodels.tsa.arima.model as sm\n",
        "import matplotlib.pyplot as plt\n",
        "import pandas as pd\n",
        "#from statsmodels.tsa.arima import ARIMA\n",
        "from statsmodels.tsa.arima.model import ARIMA \n",
        "import time\n",
        "import warnings\n",
        "warnings.filterwarnings('ignore', 'statsmodels.tsa.arima_model.ARMA',\n",
        "                        FutureWarning)\n",
        "warnings.filterwarnings('ignore', 'statsmodels.tsa.arima_model.ARIMA',\n",
        "                        FutureWarning)\n",
        "\n",
        "\n",
        "\n",
        "def find_differencing (train_data):\n",
        "    \n",
        "    \"\"\"\n",
        "    Function to find the maximum differencing from two unit tests - ADF and KPSS.\n",
        "    ...\n",
        "\n",
        "    Attributes\n",
        "    ----------\n",
        "    train_data : list\n",
        "    \n",
        "    \"\"\"\n",
        "    \n",
        "    \n",
        "    kpss_diffs = ndiffs(train_data, alpha=0.05, test='kpss', max_d=5)\n",
        "    adf_diffs = ndiffs(train_data, alpha=0.05, test='adf', max_d=5)\n",
        "    n_diffs = max(adf_diffs, kpss_diffs)\n",
        "    \n",
        "    print(f\"Estimated differencing term: {n_diffs}\")\n",
        "    return n_diffs\n",
        "\n",
        "\n",
        "def stepwise_ARIMA(train_data, test_data, optimal_order):\n",
        "    \n",
        "    \"\"\"\n",
        "    Function to perform stepwise ARIMA forecasting.\n",
        "    ...\n",
        "\n",
        "    Attributes\n",
        "    ----------\n",
        "    train_data : list\n",
        "    \n",
        "    test_data : list\n",
        "    \n",
        "    optimal_order : tuple\n",
        "        Optimal order of the ARIMA model, determined by the auto_arima function in the pmdarima library.\n",
        "   \n",
        "    \"\"\"\n",
        "    \n",
        "    history = [x for x in train_data]\n",
        "    model_predictions = []\n",
        "    N_test_observations = len(test_data)\n",
        "    for time_point in range(N_test_observations):\n",
        "        model = ARIMA(history, order=optimal_order)\n",
        "        model_fit = model.fit()\n",
        "        output = model_fit.forecast()\n",
        "        yhat = output[0]\n",
        "        model_predictions.append(yhat)\n",
        "        true_test_value = test_data[time_point]\n",
        "        history.append(true_test_value)\n",
        "    return model_predictions\n",
        "    \n",
        "    \n",
        "def ARIMA_pred(train_data, test_data, optimal_order):\n",
        "    \n",
        "    \"\"\"\n",
        "    Function to perform an ARIMA forecast and plot the results.\n",
        "    ...\n",
        "\n",
        "    Attributes\n",
        "    ----------\n",
        "    train_data : list\n",
        "    \n",
        "    test_data : list\n",
        "    \n",
        "    optimal_order : tuple\n",
        "        Optimal order of the ARIMA model, determined by the auto_arima function in the pmdarima library.\n",
        "   \n",
        "    \"\"\"\n",
        "    timestamp = time.time()\n",
        "\n",
        "    \n",
        "    # Build Model\n",
        "    model = ARIMA(train_data, order=optimal_order)  \n",
        "    fitted = model.fit()  \n",
        "    print(fitted.summary())\n",
        "        \n",
        "    # Forecast\n",
        "    #fc, se, conf = fitted.forecast(len(test_data), alpha=0.10)\n",
        "    fcast = fitted.get_forecast(len(test_data), alpha=0.05).summary_frame()\n",
        "    # Make as pandas series\n",
        "    #fc_series = pd.Series(fc, index=test_data.index)\n",
        "    #lower_series = pd.Series(conf[:, 0], index=test_data.index)\n",
        "    #upper_series = pd.Series(conf[:, 1], index=test_data.index)\n",
        "    \n",
        "    # Plot\n",
        "    plt.figure(figsize=(12,5), dpi=100)\n",
        "    plt.grid(True)\n",
        "    plt.plot(train_data, label='training')\n",
        "    plt.plot(test_data, label='actual')\n",
        "    plt.plot(fcast['mean'],'g--', label='mean_forecast')\n",
        "    #plt.plot(fc_series, label='forecast')\n",
        "    #plt.fill_between(lower_series.index, lower_series, upper_series, \n",
        "                     #color='k', alpha=0.15)\n",
        "    plt.fill_between(fcast.index, fcast['mean_ci_lower'], fcast['mean_ci_upper'], color='k', alpha=0.05);\n",
        "    plt.title('Forecast vs Actuals')\n",
        "    plt.legend(loc='upper left', fontsize=8)\n",
        "    \n",
        "    #plt.savefig('Reports/{}.png'.format(timestamp))\n",
        "\n",
        "    \n",
        "    plt.show()\n",
        "    \n",
        "    return fcast\n"
      ],
      "metadata": {
        "id": "cuMZDcrwu5Mo"
      },
      "execution_count": 6,
      "outputs": []
    },
    {
      "cell_type": "markdown",
      "source": [
        "# Preperation"
      ],
      "metadata": {
        "id": "iim8LxJgv1y4"
      }
    },
    {
      "cell_type": "markdown",
      "source": [
        "Data adding"
      ],
      "metadata": {
        "id": "5dve4lsHv_cs"
      }
    },
    {
      "cell_type": "code",
      "source": [
        "url = 'https://github.com/mehadisaki/Sales-Forecasting-model-development-/blob/main/TV%20Delivery_2016-2022.xlsx?raw=true'\n",
        "#url = 'https://github.com/mehadisaki/Sales-Forecasting-model-development-/blob/main/walton%20TV%20Delivery_2016-2022-m.xlsx?raw=true'\n",
        "# taking link from view raw'\n",
        "\n",
        "## indexing with datetime\n",
        "df =pd.read_excel(url,index_col='Month',parse_dates=['Month'])\n",
        "df.sort_index(inplace = True)\n",
        "df32= df[['Delivery']].loc[df[\"SIZE\"] == \"32\\\" ( 813 mm )\"]\n",
        "#df32.reset_index(inplace=True)\n",
        "#data_close  = df32.rename(columns = {'index':'date'})\n",
        "data_close = df32"
      ],
      "metadata": {
        "id": "o4DRKpt5vAxP"
      },
      "execution_count": 10,
      "outputs": []
    },
    {
      "cell_type": "code",
      "source": [
        "data_close.describe"
      ],
      "metadata": {
        "colab": {
          "base_uri": "https://localhost:8080/"
        },
        "id": "OP7bB2hmwUtG",
        "outputId": "e8c851d4-916a-4ebf-ea02-f84403b746de"
      },
      "execution_count": 60,
      "outputs": [
        {
          "output_type": "execute_result",
          "data": {
            "text/plain": [
              "<bound method NDFrame.describe of             Delivery   datetime\n",
              "Month                          \n",
              "2016-01-01      4513 2016-01-01\n",
              "2016-02-01      5225 2016-02-01\n",
              "2016-03-01      5583 2016-03-01\n",
              "2016-04-01      5493 2016-04-01\n",
              "2016-05-01      4864 2016-05-01\n",
              "...              ...        ...\n",
              "2021-11-01     18689 2021-11-01\n",
              "2021-12-01     15909 2021-12-01\n",
              "2022-01-01     22520 2022-01-01\n",
              "2022-02-01     26059 2022-02-01\n",
              "2022-03-01     24387 2022-03-01\n",
              "\n",
              "[75 rows x 2 columns]>"
            ]
          },
          "metadata": {},
          "execution_count": 60
        }
      ]
    },
    {
      "cell_type": "markdown",
      "source": [
        "##Plot the Delivery data"
      ],
      "metadata": {
        "id": "wlzYA5rPwgj0"
      }
    },
    {
      "cell_type": "code",
      "source": [
        "\n",
        "plt.figure(figsize=(10,6))\n",
        "plt.grid(True)\n",
        "plt.xlabel('Dates')\n",
        "plt.ylabel('Delivery')\n",
        "plt.plot(data_close['Delivery'])\n",
        "plt.title('32\" TV Delivery From Jan 2016 - March 2022')\n",
        "plt.show()"
      ],
      "metadata": {
        "colab": {
          "base_uri": "https://localhost:8080/",
          "height": 404
        },
        "id": "BMDLPnbUwYXi",
        "outputId": "c580c567-24ac-4b95-a361-ea4e11995d8f"
      },
      "execution_count": 12,
      "outputs": [
        {
          "output_type": "display_data",
          "data": {
            "text/plain": [
              "<Figure size 720x432 with 1 Axes>"
            ],
            "image/png": "[encoded data removed]"
          },
          "metadata": {
            "needs_background": "light"
          }
        }
      ]
    },
    {
      "cell_type": "markdown",
      "source": [
        " Find the input dimention for slpiting"
      ],
      "metadata": {
        "id": "0oK-K43dxZZw"
      }
    },
    {
      "cell_type": "code",
      "source": [
        "input_dim = find_input_dim(data_close['Delivery'])"
      ],
      "metadata": {
        "colab": {
          "base_uri": "https://localhost:8080/",
          "height": 385
        },
        "id": "V4Q_w8egwuio",
        "outputId": "790b5bac-d057-42d3-d1ea-c1f82fddb52c"
      },
      "execution_count": 13,
      "outputs": [
        {
          "output_type": "stream",
          "name": "stdout",
          "text": [
            "Number of values above 0.9 autocorrelation is:  1\n"
          ]
        },
        {
          "output_type": "display_data",
          "data": {
            "text/plain": [
              "<Figure size 504x360 with 1 Axes>"
            ],
            "image/png": "[encoded data removed]"
          },
          "metadata": {
            "needs_background": "light"
          }
        }
      ]
    },
    {
      "cell_type": "markdown",
      "source": [
        "## Data Split"
      ],
      "metadata": {
        "id": "feLQ9FgM5zx7"
      }
    },
    {
      "cell_type": "code",
      "source": [
        "data_copy = data_close.copy()\n",
        "\n",
        "train_data, test_data = train_test_split(data_copy.iloc[input_dim:], test_size=0.10, shuffle = False)\n",
        "\n",
        "print(train_data)\n",
        "print(test_data)"
      ],
      "metadata": {
        "colab": {
          "base_uri": "https://localhost:8080/"
        },
        "id": "jpuQE8tlxgei",
        "outputId": "e340bcd7-08bb-44a3-eb04-c71234b23e2c"
      },
      "execution_count": 14,
      "outputs": [
        {
          "output_type": "stream",
          "name": "stdout",
          "text": [
            "            Delivery\n",
            "Month               \n",
            "2016-02-01      5225\n",
            "2016-03-01      5583\n",
            "2016-04-01      5493\n",
            "2016-05-01      4864\n",
            "2016-06-01      9344\n",
            "...              ...\n",
            "2021-03-01     35036\n",
            "2021-04-01     23637\n",
            "2021-05-01     20327\n",
            "2021-06-01     24397\n",
            "2021-07-01     18657\n",
            "\n",
            "[66 rows x 1 columns]\n",
            "            Delivery\n",
            "Month               \n",
            "2021-08-01     16855\n",
            "2021-09-01     39200\n",
            "2021-10-01     20594\n",
            "2021-11-01     18689\n",
            "2021-12-01     15909\n",
            "2022-01-01     22520\n",
            "2022-02-01     26059\n",
            "2022-03-01     24387\n"
          ]
        }
      ]
    },
    {
      "cell_type": "markdown",
      "source": [
        "# Model"
      ],
      "metadata": {
        "id": "L5ezRdbK55BA"
      }
    },
    {
      "cell_type": "markdown",
      "source": [
        "## ARIMA"
      ],
      "metadata": {
        "id": "b-ekndA50qyd"
      }
    },
    {
      "cell_type": "code",
      "source": [
        "arima_model_order =  auto_arima(train_data,start_p=0, d=None, start_q=0, \n",
        "                          max_p=5, max_d=5, max_q=5, start_P=0, \n",
        "                          D=0, start_Q=0, max_P=5, max_D=5,\n",
        "                          max_Q=5, test='kpss', seasonal_test='ocsb', error_action='warn',\n",
        "                          trace = True, supress_warnings=True,stepwise = True,\n",
        "                          random_state=None, n_fits = 50)\n",
        "\n",
        "arima_model_order.plot_diagnostics(figsize=(10,7))\n",
        "plt.show()"
      ],
      "metadata": {
        "colab": {
          "base_uri": "https://localhost:8080/",
          "height": 851
        },
        "id": "mx5Pej6Myhi_",
        "outputId": "c5a2fef8-824e-46eb-d20c-835bfcf8bfc6"
      },
      "execution_count": 15,
      "outputs": [
        {
          "output_type": "stream",
          "name": "stdout",
          "text": [
            "Performing stepwise search to minimize aic\n",
            " ARIMA(0,1,0)(0,0,0)[0] intercept   : AIC=1324.399, Time=0.05 sec\n",
            " ARIMA(1,1,0)(0,0,0)[0] intercept   : AIC=1323.020, Time=0.01 sec\n",
            " ARIMA(0,1,1)(0,0,0)[0] intercept   : AIC=1322.388, Time=0.03 sec\n",
            " ARIMA(0,1,0)(0,0,0)[0]             : AIC=1322.478, Time=0.01 sec\n",
            " ARIMA(1,1,1)(0,0,0)[0] intercept   : AIC=inf, Time=0.20 sec\n",
            " ARIMA(0,1,2)(0,0,0)[0] intercept   : AIC=1324.295, Time=0.03 sec\n",
            " ARIMA(1,1,2)(0,0,0)[0] intercept   : AIC=inf, Time=0.25 sec\n",
            " ARIMA(0,1,1)(0,0,0)[0]             : AIC=1320.566, Time=0.02 sec\n",
            " ARIMA(1,1,1)(0,0,0)[0]             : AIC=1320.481, Time=0.09 sec\n",
            " ARIMA(1,1,0)(0,0,0)[0]             : AIC=1321.167, Time=0.01 sec\n",
            " ARIMA(2,1,1)(0,0,0)[0]             : AIC=1317.415, Time=0.10 sec\n",
            " ARIMA(2,1,0)(0,0,0)[0]             : AIC=1321.821, Time=0.02 sec\n",
            " ARIMA(3,1,1)(0,0,0)[0]             : AIC=1319.409, Time=0.12 sec\n",
            " ARIMA(2,1,2)(0,0,0)[0]             : AIC=inf, Time=0.23 sec\n",
            " ARIMA(1,1,2)(0,0,0)[0]             : AIC=1318.970, Time=0.07 sec\n",
            " ARIMA(3,1,0)(0,0,0)[0]             : AIC=1322.538, Time=0.03 sec\n",
            " ARIMA(3,1,2)(0,0,0)[0]             : AIC=1319.878, Time=0.11 sec\n",
            " ARIMA(2,1,1)(0,0,0)[0] intercept   : AIC=inf, Time=0.24 sec\n",
            "\n",
            "Best model:  ARIMA(2,1,1)(0,0,0)[0]          \n",
            "Total fit time: 1.653 seconds\n"
          ]
        },
        {
          "output_type": "display_data",
          "data": {
            "text/plain": [
              "<Figure size 720x504 with 4 Axes>"
            ],
            "image/png": "[encoded data removed]"
          },
          "metadata": {
            "needs_background": "light"
          }
        }
      ]
    },
    {
      "cell_type": "code",
      "source": [
        "fc = ARIMA_pred(train_data, test_data, arima_model_order.order)"
      ],
      "metadata": {
        "colab": {
          "base_uri": "https://localhost:8080/",
          "height": 1000
        },
        "id": "-JwOPQ3U0su3",
        "outputId": "9244e27d-f651-420c-a2dc-c6f7ab0d5fde"
      },
      "execution_count": 16,
      "outputs": [
        {
          "output_type": "stream",
          "name": "stderr",
          "text": [
            "/usr/local/lib/python3.7/dist-packages/statsmodels/tsa/base/tsa_model.py:471: ValueWarning: No frequency information was provided, so inferred frequency MS will be used.\n",
            "  self._init_dates(dates, freq)\n",
            "/usr/local/lib/python3.7/dist-packages/statsmodels/tsa/base/tsa_model.py:471: ValueWarning: No frequency information was provided, so inferred frequency MS will be used.\n",
            "  self._init_dates(dates, freq)\n",
            "/usr/local/lib/python3.7/dist-packages/statsmodels/tsa/base/tsa_model.py:471: ValueWarning: No frequency information was provided, so inferred frequency MS will be used.\n",
            "  self._init_dates(dates, freq)\n",
            "/usr/local/lib/python3.7/dist-packages/statsmodels/tsa/statespace/sarimax.py:978: UserWarning: Non-invertible starting MA parameters found. Using zeros as starting parameters.\n",
            "  warn('Non-invertible starting MA parameters found.'\n"
          ]
        },
        {
          "output_type": "stream",
          "name": "stdout",
          "text": [
            "                               SARIMAX Results                                \n",
            "==============================================================================\n",
            "Dep. Variable:               Delivery   No. Observations:                   66\n",
            "Model:                 ARIMA(2, 1, 1)   Log Likelihood                -654.707\n",
            "Date:                Fri, 22 Apr 2022   AIC                           1317.415\n",
            "Time:                        03:50:57   BIC                           1326.113\n",
            "Sample:                    02-01-2016   HQIC                          1320.847\n",
            "                         - 07-01-2021                                         \n",
            "Covariance Type:                  opg                                         \n",
            "==============================================================================\n",
            "                 coef    std err          z      P>|z|      [0.025      0.975]\n",
            "------------------------------------------------------------------------------\n",
            "ar.L1         -1.0975      0.104    -10.592      0.000      -1.301      -0.894\n",
            "ar.L2         -0.3360      0.114     -2.944      0.003      -0.560      -0.112\n",
            "ma.L1          0.9812      0.138      7.133      0.000       0.712       1.251\n",
            "sigma2      3.741e+07   2.38e-09   1.57e+16      0.000    3.74e+07    3.74e+07\n",
            "===================================================================================\n",
            "Ljung-Box (L1) (Q):                   0.00   Jarque-Bera (JB):                 3.71\n",
            "Prob(Q):                              0.98   Prob(JB):                         0.16\n",
            "Heteroskedasticity (H):               4.88   Skew:                             0.08\n",
            "Prob(H) (two-sided):                  0.00   Kurtosis:                         4.16\n",
            "===================================================================================\n",
            "\n",
            "Warnings:\n",
            "[1] Covariance matrix calculated using the outer product of gradients (complex-step).\n",
            "[2] Covariance matrix is singular or near-singular, with condition number 6.59e+31. Standard errors may be unstable.\n"
          ]
        },
        {
          "output_type": "display_data",
          "data": {
            "text/plain": [
              "<Figure size 1200x500 with 1 Axes>"
            ],
            "image/png": "[encoded data removed]"
          },
          "metadata": {
            "needs_background": "light"
          }
        }
      ]
    },
    {
      "cell_type": "code",
      "source": [
        "print(\"Error measures for ARIMA:\")\n",
        "calculate_error_measures(test_data, fc['mean'])"
      ],
      "metadata": {
        "colab": {
          "base_uri": "https://localhost:8080/"
        },
        "id": "cip0jaHL00jQ",
        "outputId": "2563f89b-cd08-4b24-9700-45dd218ebb5e"
      },
      "execution_count": 17,
      "outputs": [
        {
          "output_type": "stream",
          "name": "stdout",
          "text": [
            "Error measures for ARIMA:\n",
            "Mean Squared Error:  56497656.78582001\n",
            "Mean Absolute Error:  5172.156383468375\n"
          ]
        },
        {
          "output_type": "execute_result",
          "data": {
            "text/plain": [
              "[56497656.78582001, 5172.156383468375]"
            ]
          },
          "metadata": {},
          "execution_count": 17
        }
      ]
    },
    {
      "cell_type": "code",
      "source": [
        "fc"
      ],
      "metadata": {
        "colab": {
          "base_uri": "https://localhost:8080/",
          "height": 300
        },
        "id": "CaYwrMvx5Vp5",
        "outputId": "11f4bc6d-a352-4018-bf92-39427ea91729"
      },
      "execution_count": 22,
      "outputs": [
        {
          "output_type": "execute_result",
          "data": {
            "text/plain": [
              "Delivery            mean       mean_se  mean_ci_lower  mean_ci_upper\n",
              "2021-08-01  21565.309743   6124.503157    9561.504133   33569.115353\n",
              "2021-09-01  20302.255472   8162.155950    4304.723775   36299.787170\n",
              "2021-10-01  20711.183699   9150.985754    2775.581199   38646.786199\n",
              "2021-11-01  20686.801908  10814.532499    -509.292300   41882.896115\n",
              "2021-12-01  20576.154817  11676.090666   -2308.562369   43460.872003\n",
              "2022-01-01  20705.778793  12843.278611   -4466.584728   45878.142314\n",
              "2022-02-01  20600.699821  13699.404984   -6249.640557   47451.040198\n",
              "2022-03-01  20672.465013  14613.741485   -7969.941977   49314.872003"
            ],
            "text/html": [
              "\n",
              "  <div id=\"df-2d5158e9-a83a-4bb5-8e86-0c000ab0f3f7\">\n",
              "    <div class=\"colab-df-container\">\n",
              "      <div>\n",
              "<style scoped>\n",
              "    .dataframe tbody tr th:only-of-type {\n",
              "        vertical-align: middle;\n",
              "    }\n",
              "\n",
              "    .dataframe tbody tr th {\n",
              "        vertical-align: top;\n",
              "    }\n",
              "\n",
              "    .dataframe thead th {\n",
              "        text-align: right;\n",
              "    }\n",
              "</style>\n",
              "<table border=\"1\" class=\"dataframe\">\n",
              "  <thead>\n",
              "    <tr style=\"text-align: right;\">\n",
              "      <th>Delivery</th>\n",
              "      <th>mean</th>\n",
              "      <th>mean_se</th>\n",
              "      <th>mean_ci_lower</th>\n",
              "      <th>mean_ci_upper</th>\n",
              "    </tr>\n",
              "  </thead>\n",
              "  <tbody>\n",
              "    <tr>\n",
              "      <th>2021-08-01</th>\n",
              "      <td>21565.309743</td>\n",
              "      <td>6124.503157</td>\n",
              "      <td>9561.504133</td>\n",
              "      <td>33569.115353</td>\n",
              "    </tr>\n",
              "    <tr>\n",
              "      <th>2021-09-01</th>\n",
              "      <td>20302.255472</td>\n",
              "      <td>8162.155950</td>\n",
              "      <td>4304.723775</td>\n",
              "      <td>36299.787170</td>\n",
              "    </tr>\n",
              "    <tr>\n",
              "      <th>2021-10-01</th>\n",
              "      <td>20711.183699</td>\n",
              "      <td>9150.985754</td>\n",
              "      <td>2775.581199</td>\n",
              "      <td>38646.786199</td>\n",
              "    </tr>\n",
              "    <tr>\n",
              "      <th>2021-11-01</th>\n",
              "      <td>20686.801908</td>\n",
              "      <td>10814.532499</td>\n",
              "      <td>-509.292300</td>\n",
              "      <td>41882.896115</td>\n",
              "    </tr>\n",
              "    <tr>\n",
              "      <th>2021-12-01</th>\n",
              "      <td>20576.154817</td>\n",
              "      <td>11676.090666</td>\n",
              "      <td>-2308.562369</td>\n",
              "      <td>43460.872003</td>\n",
              "    </tr>\n",
              "    <tr>\n",
              "      <th>2022-01-01</th>\n",
              "      <td>20705.778793</td>\n",
              "      <td>12843.278611</td>\n",
              "      <td>-4466.584728</td>\n",
              "      <td>45878.142314</td>\n",
              "    </tr>\n",
              "    <tr>\n",
              "      <th>2022-02-01</th>\n",
              "      <td>20600.699821</td>\n",
              "      <td>13699.404984</td>\n",
              "      <td>-6249.640557</td>\n",
              "      <td>47451.040198</td>\n",
              "    </tr>\n",
              "    <tr>\n",
              "      <th>2022-03-01</th>\n",
              "      <td>20672.465013</td>\n",
              "      <td>14613.741485</td>\n",
              "      <td>-7969.941977</td>\n",
              "      <td>49314.872003</td>\n",
              "    </tr>\n",
              "  </tbody>\n",
              "</table>\n",
              "</div>\n",
              "      <button class=\"colab-df-convert\" onclick=\"convertToInteractive('df-2d5158e9-a83a-4bb5-8e86-0c000ab0f3f7')\"\n",
              "              title=\"Convert this dataframe to an interactive table.\"\n",
              "              style=\"display:none;\">\n",
              "        \n",
              "  <svg xmlns=\"http://www.w3.org/2000/svg\" height=\"24px\"viewBox=\"0 0 24 24\"\n",
              "       width=\"24px\">\n",
              "    <path d=\"M0 0h24v24H0V0z\" fill=\"none\"/>\n",
              "    <path d=\"M18.56 5.44l.94 2.06.94-2.06 2.06-.94-2.06-.94-.94-2.06-.94 2.06-2.06.94zm-11 1L8.5 8.5l.94-2.06 2.06-.94-2.06-.94L8.5 2.5l-.94 2.06-2.06.94zm10 10l.94 2.06.94-2.06 2.06-.94-2.06-.94-.94-2.06-.94 2.06-2.06.94z\"/><path d=\"M17.41 7.96l-1.37-1.37c-.4-.4-.92-.59-1.43-.59-.52 0-1.04.2-1.43.59L10.3 9.45l-7.72 7.72c-.78.78-.78 2.05 0 2.83L4 21.41c.39.39.9.59 1.41.59.51 0 1.02-.2 1.41-.59l7.78-7.78 2.81-2.81c.8-.78.8-2.07 0-2.86zM5.41 20L4 18.59l7.72-7.72 1.47 1.35L5.41 20z\"/>\n",
              "  </svg>\n",
              "      </button>\n",
              "      \n",
              "  <style>\n",
              "    .colab-df-container {\n",
              "      display:flex;\n",
              "      flex-wrap:wrap;\n",
              "      gap: 12px;\n",
              "    }\n",
              "\n",
              "    .colab-df-convert {\n",
              "      background-color: #E8F0FE;\n",
              "      border: none;\n",
              "      border-radius: 50%;\n",
              "      cursor: pointer;\n",
              "      display: none;\n",
              "      fill: #1967D2;\n",
              "      height: 32px;\n",
              "      padding: 0 0 0 0;\n",
              "      width: 32px;\n",
              "    }\n",
              "\n",
              "    .colab-df-convert:hover {\n",
              "      background-color: #E2EBFA;\n",
              "      box-shadow: 0px 1px 2px rgba(60, 64, 67, 0.3), 0px 1px 3px 1px rgba(60, 64, 67, 0.15);\n",
              "      fill: #174EA6;\n",
              "    }\n",
              "\n",
              "    [theme=dark] .colab-df-convert {\n",
              "      background-color: #3B4455;\n",
              "      fill: #D2E3FC;\n",
              "    }\n",
              "\n",
              "    [theme=dark] .colab-df-convert:hover {\n",
              "      background-color: #434B5C;\n",
              "      box-shadow: 0px 1px 3px 1px rgba(0, 0, 0, 0.15);\n",
              "      filter: drop-shadow(0px 1px 2px rgba(0, 0, 0, 0.3));\n",
              "      fill: #FFFFFF;\n",
              "    }\n",
              "  </style>\n",
              "\n",
              "      <script>\n",
              "        const buttonEl =\n",
              "          document.querySelector('#df-2d5158e9-a83a-4bb5-8e86-0c000ab0f3f7 button.colab-df-convert');\n",
              "        buttonEl.style.display =\n",
              "          google.colab.kernel.accessAllowed ? 'block' : 'none';\n",
              "\n",
              "        async function convertToInteractive(key) {\n",
              "          const element = document.querySelector('#df-2d5158e9-a83a-4bb5-8e86-0c000ab0f3f7');\n",
              "          const dataTable =\n",
              "            await google.colab.kernel.invokeFunction('convertToInteractive',\n",
              "                                                     [key], {});\n",
              "          if (!dataTable) return;\n",
              "\n",
              "          const docLinkHtml = 'Like what you see? Visit the ' +\n",
              "            '<a target=\"_blank\" href=https://colab.research.google.com/notebooks/data_table.ipynb>data table notebook</a>'\n",
              "            + ' to learn more about interactive tables.';\n",
              "          element.innerHTML = '';\n",
              "          dataTable['output_type'] = 'display_data';\n",
              "          await google.colab.output.renderOutput(dataTable, element);\n",
              "          const docLink = document.createElement('div');\n",
              "          docLink.innerHTML = docLinkHtml;\n",
              "          element.appendChild(docLink);\n",
              "        }\n",
              "      </script>\n",
              "    </div>\n",
              "  </div>\n",
              "  "
            ]
          },
          "metadata": {},
          "execution_count": 22
        }
      ]
    },
    {
      "cell_type": "code",
      "source": [
        ""
      ],
      "metadata": {
        "id": "fY7Xs4tI5Zu3"
      },
      "execution_count": null,
      "outputs": []
    },
    {
      "cell_type": "code",
      "source": [
        ""
      ],
      "metadata": {
        "id": "A_MeU_g35i0_"
      },
      "execution_count": null,
      "outputs": []
    },
    {
      "cell_type": "markdown",
      "source": [
        "## MLP"
      ],
      "metadata": {
        "id": "8jjDn8Fj5oML"
      }
    },
    {
      "cell_type": "code",
      "source": [
        "columns_mlp = ['Delivery']\n",
        "\n",
        "n_lags_mlp = []\n",
        "for i in range(1, input_dim+1):\n",
        "    n_lags_mlp.append(i)\n",
        "\n",
        "df_new = create_regressor_attributes(data_close, columns_mlp, n_lags_mlp)\n",
        "\n",
        "df_new.shape"
      ],
      "metadata": {
        "colab": {
          "base_uri": "https://localhost:8080/"
        },
        "id": "Ql-CMIzq6Fyd",
        "outputId": "b6eaefc2-ae7a-4e55-c6bd-7bdd192e2958"
      },
      "execution_count": 53,
      "outputs": [
        {
          "output_type": "execute_result",
          "data": {
            "text/plain": [
              "(74, 2)"
            ]
          },
          "metadata": {},
          "execution_count": 53
        }
      ]
    },
    {
      "cell_type": "code",
      "source": [
        "df_new.head()"
      ],
      "metadata": {
        "id": "4HQApN1d6Mwk"
      },
      "execution_count": null,
      "outputs": []
    },
    {
      "cell_type": "markdown",
      "source": [
        "### Split for MLP"
      ],
      "metadata": {
        "id": "8D2WtAQO7SY2"
      }
    },
    {
      "cell_type": "code",
      "source": [
        "X_train, y_train, X_valid, y_valid, X_test, y_test = create_train_valid_test(df_new, 0.10, 0.10)"
      ],
      "metadata": {
        "colab": {
          "base_uri": "https://localhost:8080/"
        },
        "id": "VurmuPYp6OXM",
        "outputId": "1701174c-b815-4378-c2f0-d4f370a59e25"
      },
      "execution_count": 54,
      "outputs": [
        {
          "output_type": "stream",
          "name": "stdout",
          "text": [
            "Shape of training inputs, training target: (59, 1) (59,)\n",
            "Shape of validation inputs, validation target: (7, 1) (7,)\n",
            "Shape of test inputs, test target: (8, 1) (8,)\n"
          ]
        }
      ]
    },
    {
      "cell_type": "markdown",
      "source": [
        "Scaling"
      ],
      "metadata": {
        "id": "7vmtjELE7aLD"
      }
    },
    {
      "cell_type": "code",
      "source": [
        "scaler = MinMaxScaler()\n",
        "\n",
        "X_train_scaled, y_train_scaled, X_valid_scaled, y_valid_scaled, X_test_scaled, y_test_scaled = scale_data(X_train, y_train, X_valid, y_valid, X_test, y_test, scaler)"
      ],
      "metadata": {
        "id": "3tv8NjGx6QBJ"
      },
      "execution_count": 55,
      "outputs": []
    },
    {
      "cell_type": "code",
      "source": [
        "y_test_rescaled = scaler.inverse_transform(y_test_scaled)"
      ],
      "metadata": {
        "id": "w62-R8l-7caY"
      },
      "execution_count": 56,
      "outputs": []
    },
    {
      "cell_type": "code",
      "source": [
        "baseline_test(10, input_dim, X_train_scaled, y_train_scaled, X_valid_scaled, y_valid_scaled, X_test_scaled, y_test_rescaled, scaler)"
      ],
      "metadata": {
        "id": "DIb08X4i7fwS"
      },
      "execution_count": null,
      "outputs": []
    },
    {
      "cell_type": "code",
      "source": [
        "# wrap model into a scikit-learn compatible regressor\n",
        "model = KerasRegressor(build_fn=get_mlp_model, verbose=0, input_dim=input_dim)\n",
        "# define a grid of the hyperparameter search space\n",
        "hidden_layer_one = [25, 50, 100]\n",
        "hidden_layer_two = [5, 10, 25]\n",
        "learn_rate = [0.01, 0.001, 0.0001]\n",
        "dropout = [0.1, 0.2 , 0.3, 0.4, 0.5]\n",
        "batch_size = [4, 8, 16, 32, 64, 128]\n",
        "epochs = [10, 50, 100, 500, 1000]\n",
        "# create a dictionary from the hyperparameter grid\n",
        "grid = dict(\n",
        "    hidden_layer_one=hidden_layer_one,\n",
        "    hidden_layer_two=hidden_layer_two,\n",
        "    dropout=dropout,\n",
        "    learn_rate=learn_rate,\n",
        "    batch_size=batch_size,\n",
        "    epochs=epochs\n",
        ")"
      ],
      "metadata": {
        "id": "LRzhxsn57jNk"
      },
      "execution_count": null,
      "outputs": []
    },
    {
      "cell_type": "code",
      "source": [
        "best_parameters = optimize_parameters(model, grid, X_train_scaled, y_train_scaled)\n",
        "\n",
        "\n",
        "hidden_layer_one=best_parameters['hidden_layer_one']\n",
        "hidden_layer_two=best_parameters['hidden_layer_two']\n",
        "dropout=best_parameters['dropout']\n",
        "learn_rate=best_parameters['learn_rate']\n",
        "batch_size=best_parameters['batch_size']\n",
        "epochs=best_parameters['epochs']\n",
        "\n",
        "\n",
        "best_model = get_mlp_model(input_dim, hidden_layer_one=hidden_layer_one, hidden_layer_two=hidden_layer_two,\n",
        "    dropout=dropout, learn_rate=learn_rate)"
      ],
      "metadata": {
        "id": "PMTYOPXc8-T2"
      },
      "execution_count": null,
      "outputs": []
    },
    {
      "cell_type": "code",
      "source": [
        "#\n",
        "es = EarlyStopping(monitor='val_loss', mode='min', min_delta = 0, patience = 25, verbose=1, restore_best_weights=True)\n",
        "\n",
        "\n",
        "history = best_model.fit(x=X_train_scaled, y=y_train_scaled,\n",
        "    validation_data=(X_valid_scaled, y_valid_scaled),\n",
        "    batch_size=batch_size,\n",
        "    epochs=epochs,\n",
        "    callbacks=es,\n",
        "    shuffle=False,\n",
        "    verbose=False)\n",
        "\n",
        "MLP_pred = best_model.predict(X_test_scaled)\n",
        "MLP_pred_rescaled = scaler.inverse_transform(MLP_pred)"
      ],
      "metadata": {
        "id": "NnnJ1Zc89Csi"
      },
      "execution_count": null,
      "outputs": []
    },
    {
      "cell_type": "code",
      "source": [
        "plot_comparison_graph(y_test_rescaled, MLP_pred_rescaled)\n",
        "plot_loss(history)\n",
        "\n",
        "print(\"Error measures for MLP:\")\n",
        "calculate_error_measures(y_test_rescaled, MLP_pred_rescaled)"
      ],
      "metadata": {
        "id": "a4hlmJMEAP0M"
      },
      "execution_count": null,
      "outputs": []
    },
    {
      "cell_type": "code",
      "source": [
        "plot_model(best_model,\n",
        "    #to_file=\"Reports/MLP.png\",\n",
        "    show_shapes=True,\n",
        "    show_layer_names=False,\n",
        "    rankdir=\"LR\",\n",
        "    expand_nested=True,\n",
        "    dpi=96)"
      ],
      "metadata": {
        "id": "wTtPHKQoAVQQ"
      },
      "execution_count": null,
      "outputs": []
    },
    {
      "cell_type": "markdown",
      "source": [
        ""
      ],
      "metadata": {
        "id": "moiRGM-vC89v"
      }
    },
    {
      "cell_type": "markdown",
      "source": [
        "## Hybrid"
      ],
      "metadata": {
        "id": "9YGUNRPXDlm-"
      }
    },
    {
      "cell_type": "markdown",
      "source": [
        "### Statistical model"
      ],
      "metadata": {
        "id": "JcyfdZVcZ_6C"
      }
    },
    {
      "cell_type": "code",
      "source": [
        "train_data2, test_data2 = train_test_split(data_copy, test_size=0.20, shuffle = False)"
      ],
      "metadata": {
        "id": "hZJO2kw-Dp2G"
      },
      "execution_count": 37,
      "outputs": []
    },
    {
      "cell_type": "code",
      "source": [
        "arima_model_order2 =  auto_arima(train_data2,start_p=0, d=None, start_q=0, \n",
        "                          max_p=5, max_d=5, max_q=5, start_P=0, \n",
        "                          D=0, start_Q=0, max_P=5, max_D=5,\n",
        "                          max_Q=5, test='kpss', seasonal_test='ocsb', error_action='warn',trace = True,\n",
        "                          supress_warnings=True,stepwise = True,\n",
        "                          random_state=None, n_fits = 50)\n",
        "\n",
        "arima_model_order2.plot_diagnostics(figsize=(10,7))\n",
        "plt.show()"
      ],
      "metadata": {
        "colab": {
          "base_uri": "https://localhost:8080/",
          "height": 618
        },
        "id": "dKqf4BfqYAG4",
        "outputId": "51aad797-df9d-45ac-f136-162c3f155c43"
      },
      "execution_count": 38,
      "outputs": [
        {
          "output_type": "stream",
          "name": "stdout",
          "text": [
            "Performing stepwise search to minimize aic\n",
            " ARIMA(0,1,0)(0,0,0)[0] intercept   : AIC=1199.834, Time=0.01 sec\n",
            " ARIMA(1,1,0)(0,0,0)[0] intercept   : AIC=1199.401, Time=0.02 sec\n",
            " ARIMA(0,1,1)(0,0,0)[0] intercept   : AIC=1199.161, Time=0.07 sec\n",
            " ARIMA(0,1,0)(0,0,0)[0]             : AIC=1198.084, Time=0.01 sec\n",
            " ARIMA(1,1,1)(0,0,0)[0] intercept   : AIC=1201.021, Time=0.12 sec\n",
            "\n",
            "Best model:  ARIMA(0,1,0)(0,0,0)[0]          \n",
            "Total fit time: 0.261 seconds\n"
          ]
        },
        {
          "output_type": "display_data",
          "data": {
            "text/plain": [
              "<Figure size 720x504 with 4 Axes>"
            ],
            "image/png": "[encoded data removed]"
          },
          "metadata": {
            "needs_background": "light"
          }
        }
      ]
    },
    {
      "cell_type": "markdown",
      "source": [
        "### Residue"
      ],
      "metadata": {
        "id": "xlLXQdekZ8gP"
      }
    },
    {
      "cell_type": "markdown",
      "source": [
        "Collecting residue from Statistical analysis like ARIMA for Machine learning model"
      ],
      "metadata": {
        "id": "EL_Du20pZslC"
      }
    },
    {
      "cell_type": "code",
      "source": [
        "fc_resid = ARIMA_pred(train_data2, test_data2, arima_model_order2.order)\n",
        "\n",
        "residuals = [a-b for a,b in zip(test_data2['Delivery'], fc_resid['mean'])]\n",
        "\n",
        "resid = pd.DataFrame(residuals, columns = ['resid'])"
      ],
      "metadata": {
        "colab": {
          "base_uri": "https://localhost:8080/",
          "height": 980
        },
        "id": "sws6fKAMZrpb",
        "outputId": "f6776896-f3c7-4fe8-96ea-69c2b344a228"
      },
      "execution_count": 39,
      "outputs": [
        {
          "output_type": "stream",
          "name": "stderr",
          "text": [
            "/usr/local/lib/python3.7/dist-packages/statsmodels/tsa/base/tsa_model.py:471: ValueWarning: No frequency information was provided, so inferred frequency MS will be used.\n",
            "  self._init_dates(dates, freq)\n",
            "/usr/local/lib/python3.7/dist-packages/statsmodels/tsa/base/tsa_model.py:471: ValueWarning: No frequency information was provided, so inferred frequency MS will be used.\n",
            "  self._init_dates(dates, freq)\n",
            "/usr/local/lib/python3.7/dist-packages/statsmodels/tsa/base/tsa_model.py:471: ValueWarning: No frequency information was provided, so inferred frequency MS will be used.\n",
            "  self._init_dates(dates, freq)\n"
          ]
        },
        {
          "output_type": "stream",
          "name": "stdout",
          "text": [
            "                               SARIMAX Results                                \n",
            "==============================================================================\n",
            "Dep. Variable:               Delivery   No. Observations:                   60\n",
            "Model:                 ARIMA(0, 1, 0)   Log Likelihood                -598.042\n",
            "Date:                Fri, 22 Apr 2022   AIC                           1198.084\n",
            "Time:                        04:16:01   BIC                           1200.161\n",
            "Sample:                    01-01-2016   HQIC                          1198.895\n",
            "                         - 12-01-2020                                         \n",
            "Covariance Type:                  opg                                         \n",
            "==============================================================================\n",
            "                 coef    std err          z      P>|z|      [0.025      0.975]\n",
            "------------------------------------------------------------------------------\n",
            "sigma2      3.668e+07    5.5e+06      6.670      0.000    2.59e+07    4.75e+07\n",
            "===================================================================================\n",
            "Ljung-Box (L1) (Q):                   2.53   Jarque-Bera (JB):                 3.16\n",
            "Prob(Q):                              0.11   Prob(JB):                         0.21\n",
            "Heteroskedasticity (H):               4.57   Skew:                            -0.27\n",
            "Prob(H) (two-sided):                  0.00   Kurtosis:                         3.99\n",
            "===================================================================================\n",
            "\n",
            "Warnings:\n",
            "[1] Covariance matrix calculated using the outer product of gradients (complex-step).\n"
          ]
        },
        {
          "output_type": "display_data",
          "data": {
            "text/plain": [
              "<Figure size 1200x500 with 1 Axes>"
            ],
            "image/png": "[encoded data removed]"
          },
          "metadata": {
            "needs_background": "light"
          }
        }
      ]
    },
    {
      "cell_type": "code",
      "source": [
        "resid.head()"
      ],
      "metadata": {
        "colab": {
          "base_uri": "https://localhost:8080/",
          "height": 206
        },
        "id": "EPBnB9y9ZkNJ",
        "outputId": "45f98c72-8e70-4885-f175-6c7855293199"
      },
      "execution_count": 40,
      "outputs": [
        {
          "output_type": "execute_result",
          "data": {
            "text/plain": [
              "    resid\n",
              "0 -5239.0\n",
              "1 -2753.0\n",
              "2  7517.0\n",
              "3 -3882.0\n",
              "4 -7192.0"
            ],
            "text/html": [
              "\n",
              "  <div id=\"df-4619d733-b584-4074-a780-498a677448b6\">\n",
              "    <div class=\"colab-df-container\">\n",
              "      <div>\n",
              "<style scoped>\n",
              "    .dataframe tbody tr th:only-of-type {\n",
              "        vertical-align: middle;\n",
              "    }\n",
              "\n",
              "    .dataframe tbody tr th {\n",
              "        vertical-align: top;\n",
              "    }\n",
              "\n",
              "    .dataframe thead th {\n",
              "        text-align: right;\n",
              "    }\n",
              "</style>\n",
              "<table border=\"1\" class=\"dataframe\">\n",
              "  <thead>\n",
              "    <tr style=\"text-align: right;\">\n",
              "      <th></th>\n",
              "      <th>resid</th>\n",
              "    </tr>\n",
              "  </thead>\n",
              "  <tbody>\n",
              "    <tr>\n",
              "      <th>0</th>\n",
              "      <td>-5239.0</td>\n",
              "    </tr>\n",
              "    <tr>\n",
              "      <th>1</th>\n",
              "      <td>-2753.0</td>\n",
              "    </tr>\n",
              "    <tr>\n",
              "      <th>2</th>\n",
              "      <td>7517.0</td>\n",
              "    </tr>\n",
              "    <tr>\n",
              "      <th>3</th>\n",
              "      <td>-3882.0</td>\n",
              "    </tr>\n",
              "    <tr>\n",
              "      <th>4</th>\n",
              "      <td>-7192.0</td>\n",
              "    </tr>\n",
              "  </tbody>\n",
              "</table>\n",
              "</div>\n",
              "      <button class=\"colab-df-convert\" onclick=\"convertToInteractive('df-4619d733-b584-4074-a780-498a677448b6')\"\n",
              "              title=\"Convert this dataframe to an interactive table.\"\n",
              "              style=\"display:none;\">\n",
              "        \n",
              "  <svg xmlns=\"http://www.w3.org/2000/svg\" height=\"24px\"viewBox=\"0 0 24 24\"\n",
              "       width=\"24px\">\n",
              "    <path d=\"M0 0h24v24H0V0z\" fill=\"none\"/>\n",
              "    <path d=\"M18.56 5.44l.94 2.06.94-2.06 2.06-.94-2.06-.94-.94-2.06-.94 2.06-2.06.94zm-11 1L8.5 8.5l.94-2.06 2.06-.94-2.06-.94L8.5 2.5l-.94 2.06-2.06.94zm10 10l.94 2.06.94-2.06 2.06-.94-2.06-.94-.94-2.06-.94 2.06-2.06.94z\"/><path d=\"M17.41 7.96l-1.37-1.37c-.4-.4-.92-.59-1.43-.59-.52 0-1.04.2-1.43.59L10.3 9.45l-7.72 7.72c-.78.78-.78 2.05 0 2.83L4 21.41c.39.39.9.59 1.41.59.51 0 1.02-.2 1.41-.59l7.78-7.78 2.81-2.81c.8-.78.8-2.07 0-2.86zM5.41 20L4 18.59l7.72-7.72 1.47 1.35L5.41 20z\"/>\n",
              "  </svg>\n",
              "      </button>\n",
              "      \n",
              "  <style>\n",
              "    .colab-df-container {\n",
              "      display:flex;\n",
              "      flex-wrap:wrap;\n",
              "      gap: 12px;\n",
              "    }\n",
              "\n",
              "    .colab-df-convert {\n",
              "      background-color: #E8F0FE;\n",
              "      border: none;\n",
              "      border-radius: 50%;\n",
              "      cursor: pointer;\n",
              "      display: none;\n",
              "      fill: #1967D2;\n",
              "      height: 32px;\n",
              "      padding: 0 0 0 0;\n",
              "      width: 32px;\n",
              "    }\n",
              "\n",
              "    .colab-df-convert:hover {\n",
              "      background-color: #E2EBFA;\n",
              "      box-shadow: 0px 1px 2px rgba(60, 64, 67, 0.3), 0px 1px 3px 1px rgba(60, 64, 67, 0.15);\n",
              "      fill: #174EA6;\n",
              "    }\n",
              "\n",
              "    [theme=dark] .colab-df-convert {\n",
              "      background-color: #3B4455;\n",
              "      fill: #D2E3FC;\n",
              "    }\n",
              "\n",
              "    [theme=dark] .colab-df-convert:hover {\n",
              "      background-color: #434B5C;\n",
              "      box-shadow: 0px 1px 3px 1px rgba(0, 0, 0, 0.15);\n",
              "      filter: drop-shadow(0px 1px 2px rgba(0, 0, 0, 0.3));\n",
              "      fill: #FFFFFF;\n",
              "    }\n",
              "  </style>\n",
              "\n",
              "      <script>\n",
              "        const buttonEl =\n",
              "          document.querySelector('#df-4619d733-b584-4074-a780-498a677448b6 button.colab-df-convert');\n",
              "        buttonEl.style.display =\n",
              "          google.colab.kernel.accessAllowed ? 'block' : 'none';\n",
              "\n",
              "        async function convertToInteractive(key) {\n",
              "          const element = document.querySelector('#df-4619d733-b584-4074-a780-498a677448b6');\n",
              "          const dataTable =\n",
              "            await google.colab.kernel.invokeFunction('convertToInteractive',\n",
              "                                                     [key], {});\n",
              "          if (!dataTable) return;\n",
              "\n",
              "          const docLinkHtml = 'Like what you see? Visit the ' +\n",
              "            '<a target=\"_blank\" href=https://colab.research.google.com/notebooks/data_table.ipynb>data table notebook</a>'\n",
              "            + ' to learn more about interactive tables.';\n",
              "          element.innerHTML = '';\n",
              "          dataTable['output_type'] = 'display_data';\n",
              "          await google.colab.output.renderOutput(dataTable, element);\n",
              "          const docLink = document.createElement('div');\n",
              "          docLink.innerHTML = docLinkHtml;\n",
              "          element.appendChild(docLink);\n",
              "        }\n",
              "      </script>\n",
              "    </div>\n",
              "  </div>\n",
              "  "
            ]
          },
          "metadata": {},
          "execution_count": 40
        }
      ]
    },
    {
      "cell_type": "markdown",
      "source": [
        "### Input dimention for ML"
      ],
      "metadata": {
        "id": "ijSlxOiXbBa1"
      }
    },
    {
      "cell_type": "code",
      "source": [
        "input_dim_hybrid = find_input_dim(resid['resid'])"
      ],
      "metadata": {
        "colab": {
          "base_uri": "https://localhost:8080/",
          "height": 385
        },
        "id": "ompegzI6askt",
        "outputId": "a2c88bcb-1e4f-40ed-ad94-aa7ba49428e6"
      },
      "execution_count": 41,
      "outputs": [
        {
          "output_type": "stream",
          "name": "stdout",
          "text": [
            "Number of values above 0.9 autocorrelation is:  1\n"
          ]
        },
        {
          "output_type": "display_data",
          "data": {
            "text/plain": [
              "<Figure size 504x360 with 1 Axes>"
            ],
            "image/png": "[encoded data removed]"
          },
          "metadata": {
            "needs_background": "light"
          }
        }
      ]
    },
    {
      "cell_type": "markdown",
      "source": [
        "### MLP "
      ],
      "metadata": {
        "id": "h3ng-m52bK7_"
      }
    },
    {
      "cell_type": "code",
      "source": [
        "\n",
        "column_hybrid = ['resid']\n",
        "\n",
        "n_lags_hybrid = []\n",
        "for i in range(1, input_dim_hybrid+1):\n",
        "    n_lags_hybrid.append(i)\n",
        "\n",
        "df_new_hybrid = create_regressor_attributes(resid, column_hybrid, n_lags_hybrid)"
      ],
      "metadata": {
        "id": "Z2MoxqB7a_5t"
      },
      "execution_count": 42,
      "outputs": []
    },
    {
      "cell_type": "code",
      "source": [
        "df_new_hybrid.head()"
      ],
      "metadata": {
        "colab": {
          "base_uri": "https://localhost:8080/",
          "height": 237
        },
        "id": "YO_BkR7FbTU3",
        "outputId": "a60ad1f1-3428-4b06-ab76-dd85ff775dd8"
      },
      "execution_count": 43,
      "outputs": [
        {
          "output_type": "execute_result",
          "data": {
            "text/plain": [
              "           resid  resid_(t-1)\n",
              "datetime                     \n",
              "1        -2753.0      -5239.0\n",
              "2         7517.0      -2753.0\n",
              "3        -3882.0       7517.0\n",
              "4        -7192.0      -3882.0\n",
              "5        -3122.0      -7192.0"
            ],
            "text/html": [
              "\n",
              "  <div id=\"df-19316e06-95b7-44c8-91e1-34a51220f9ea\">\n",
              "    <div class=\"colab-df-container\">\n",
              "      <div>\n",
              "<style scoped>\n",
              "    .dataframe tbody tr th:only-of-type {\n",
              "        vertical-align: middle;\n",
              "    }\n",
              "\n",
              "    .dataframe tbody tr th {\n",
              "        vertical-align: top;\n",
              "    }\n",
              "\n",
              "    .dataframe thead th {\n",
              "        text-align: right;\n",
              "    }\n",
              "</style>\n",
              "<table border=\"1\" class=\"dataframe\">\n",
              "  <thead>\n",
              "    <tr style=\"text-align: right;\">\n",
              "      <th></th>\n",
              "      <th>resid</th>\n",
              "      <th>resid_(t-1)</th>\n",
              "    </tr>\n",
              "    <tr>\n",
              "      <th>datetime</th>\n",
              "      <th></th>\n",
              "      <th></th>\n",
              "    </tr>\n",
              "  </thead>\n",
              "  <tbody>\n",
              "    <tr>\n",
              "      <th>1</th>\n",
              "      <td>-2753.0</td>\n",
              "      <td>-5239.0</td>\n",
              "    </tr>\n",
              "    <tr>\n",
              "      <th>2</th>\n",
              "      <td>7517.0</td>\n",
              "      <td>-2753.0</td>\n",
              "    </tr>\n",
              "    <tr>\n",
              "      <th>3</th>\n",
              "      <td>-3882.0</td>\n",
              "      <td>7517.0</td>\n",
              "    </tr>\n",
              "    <tr>\n",
              "      <th>4</th>\n",
              "      <td>-7192.0</td>\n",
              "      <td>-3882.0</td>\n",
              "    </tr>\n",
              "    <tr>\n",
              "      <th>5</th>\n",
              "      <td>-3122.0</td>\n",
              "      <td>-7192.0</td>\n",
              "    </tr>\n",
              "  </tbody>\n",
              "</table>\n",
              "</div>\n",
              "      <button class=\"colab-df-convert\" onclick=\"convertToInteractive('df-19316e06-95b7-44c8-91e1-34a51220f9ea')\"\n",
              "              title=\"Convert this dataframe to an interactive table.\"\n",
              "              style=\"display:none;\">\n",
              "        \n",
              "  <svg xmlns=\"http://www.w3.org/2000/svg\" height=\"24px\"viewBox=\"0 0 24 24\"\n",
              "       width=\"24px\">\n",
              "    <path d=\"M0 0h24v24H0V0z\" fill=\"none\"/>\n",
              "    <path d=\"M18.56 5.44l.94 2.06.94-2.06 2.06-.94-2.06-.94-.94-2.06-.94 2.06-2.06.94zm-11 1L8.5 8.5l.94-2.06 2.06-.94-2.06-.94L8.5 2.5l-.94 2.06-2.06.94zm10 10l.94 2.06.94-2.06 2.06-.94-2.06-.94-.94-2.06-.94 2.06-2.06.94z\"/><path d=\"M17.41 7.96l-1.37-1.37c-.4-.4-.92-.59-1.43-.59-.52 0-1.04.2-1.43.59L10.3 9.45l-7.72 7.72c-.78.78-.78 2.05 0 2.83L4 21.41c.39.39.9.59 1.41.59.51 0 1.02-.2 1.41-.59l7.78-7.78 2.81-2.81c.8-.78.8-2.07 0-2.86zM5.41 20L4 18.59l7.72-7.72 1.47 1.35L5.41 20z\"/>\n",
              "  </svg>\n",
              "      </button>\n",
              "      \n",
              "  <style>\n",
              "    .colab-df-container {\n",
              "      display:flex;\n",
              "      flex-wrap:wrap;\n",
              "      gap: 12px;\n",
              "    }\n",
              "\n",
              "    .colab-df-convert {\n",
              "      background-color: #E8F0FE;\n",
              "      border: none;\n",
              "      border-radius: 50%;\n",
              "      cursor: pointer;\n",
              "      display: none;\n",
              "      fill: #1967D2;\n",
              "      height: 32px;\n",
              "      padding: 0 0 0 0;\n",
              "      width: 32px;\n",
              "    }\n",
              "\n",
              "    .colab-df-convert:hover {\n",
              "      background-color: #E2EBFA;\n",
              "      box-shadow: 0px 1px 2px rgba(60, 64, 67, 0.3), 0px 1px 3px 1px rgba(60, 64, 67, 0.15);\n",
              "      fill: #174EA6;\n",
              "    }\n",
              "\n",
              "    [theme=dark] .colab-df-convert {\n",
              "      background-color: #3B4455;\n",
              "      fill: #D2E3FC;\n",
              "    }\n",
              "\n",
              "    [theme=dark] .colab-df-convert:hover {\n",
              "      background-color: #434B5C;\n",
              "      box-shadow: 0px 1px 3px 1px rgba(0, 0, 0, 0.15);\n",
              "      filter: drop-shadow(0px 1px 2px rgba(0, 0, 0, 0.3));\n",
              "      fill: #FFFFFF;\n",
              "    }\n",
              "  </style>\n",
              "\n",
              "      <script>\n",
              "        const buttonEl =\n",
              "          document.querySelector('#df-19316e06-95b7-44c8-91e1-34a51220f9ea button.colab-df-convert');\n",
              "        buttonEl.style.display =\n",
              "          google.colab.kernel.accessAllowed ? 'block' : 'none';\n",
              "\n",
              "        async function convertToInteractive(key) {\n",
              "          const element = document.querySelector('#df-19316e06-95b7-44c8-91e1-34a51220f9ea');\n",
              "          const dataTable =\n",
              "            await google.colab.kernel.invokeFunction('convertToInteractive',\n",
              "                                                     [key], {});\n",
              "          if (!dataTable) return;\n",
              "\n",
              "          const docLinkHtml = 'Like what you see? Visit the ' +\n",
              "            '<a target=\"_blank\" href=https://colab.research.google.com/notebooks/data_table.ipynb>data table notebook</a>'\n",
              "            + ' to learn more about interactive tables.';\n",
              "          element.innerHTML = '';\n",
              "          dataTable['output_type'] = 'display_data';\n",
              "          await google.colab.output.renderOutput(dataTable, element);\n",
              "          const docLink = document.createElement('div');\n",
              "          docLink.innerHTML = docLinkHtml;\n",
              "          element.appendChild(docLink);\n",
              "        }\n",
              "      </script>\n",
              "    </div>\n",
              "  </div>\n",
              "  "
            ]
          },
          "metadata": {},
          "execution_count": 43
        }
      ]
    },
    {
      "cell_type": "markdown",
      "source": [
        "Split\n"
      ],
      "metadata": {
        "id": "MyZMnVNobfvK"
      }
    },
    {
      "cell_type": "code",
      "source": [
        "scaler = MinMaxScaler()\n",
        "X_train_hybrid, y_train_hybrid, X_valid_hybrid, y_valid_hybrid, X_test_hybrid, y_test_hybrid = create_train_valid_test(\n",
        "    df_new_hybrid, 0.20, 0.10)\n",
        "\n",
        "\n",
        "X_train_hybrid, y_train_hybrid, X_valid_hybrid, y_valid_hybrid, X_test_hybrid, y_test_hybrid = scale_data(\n",
        "    X_train_hybrid, y_train_hybrid, X_valid_hybrid, y_valid_hybrid, X_test_hybrid, y_test_hybrid, scaler)"
      ],
      "metadata": {
        "colab": {
          "base_uri": "https://localhost:8080/"
        },
        "id": "bKm5lYXibVdO",
        "outputId": "26bed0b3-40b1-410c-a740-c04097a2fdf7"
      },
      "execution_count": 44,
      "outputs": [
        {
          "output_type": "stream",
          "name": "stdout",
          "text": [
            "Shape of training inputs, training target: (9, 1) (9,)\n",
            "Shape of validation inputs, validation target: (2, 1) (2,)\n",
            "Shape of test inputs, test target: (3, 1) (3,)\n"
          ]
        }
      ]
    },
    {
      "cell_type": "code",
      "source": [
        "y_test_rescaled = scaler.inverse_transform(y_test_scaled)"
      ],
      "metadata": {
        "id": "NFPYaINIfsHH"
      },
      "execution_count": 57,
      "outputs": []
    },
    {
      "cell_type": "code",
      "source": [
        "resid_HMLP, history_hybrid = forecast_HMLP_residuals(\n",
        "    input_dim_hybrid, X_train_hybrid, y_train_hybrid, X_valid_hybrid, y_valid_hybrid, X_test_hybrid)\n",
        "\n",
        "resid_HMLP = scaler.inverse_transform(resid_HMLP)\n",
        "\n",
        "\n",
        "plot_loss(history_hybrid)"
      ],
      "metadata": {
        "colab": {
          "base_uri": "https://localhost:8080/",
          "height": 677
        },
        "id": "WvZH1RdMbhMC",
        "outputId": "7ee6fcae-120f-46e3-fce7-21f90e921a65"
      },
      "execution_count": 45,
      "outputs": [
        {
          "output_type": "stream",
          "name": "stdout",
          "text": [
            "Model: \"sequential_1\"\n",
            "_________________________________________________________________\n",
            " Layer (type)                Output Shape              Param #   \n",
            "=================================================================\n",
            " dense_3 (Dense)             (None, 1)                 2         \n",
            "                                                                 \n",
            " dense_4 (Dense)             (None, 0)                 0         \n",
            "                                                                 \n",
            " dropout_1 (Dropout)         (None, 0)                 0         \n",
            "                                                                 \n",
            " dense_5 (Dense)             (None, 1)                 1         \n",
            "                                                                 \n",
            "=================================================================\n",
            "Total params: 3\n",
            "Trainable params: 3\n",
            "Non-trainable params: 0\n",
            "_________________________________________________________________\n"
          ]
        },
        {
          "output_type": "display_data",
          "data": {
            "text/plain": [
              "<Figure size 792x432 with 1 Axes>"
            ],
            "image/png": "[encoded data removed]"
          },
          "metadata": {
            "needs_background": "light"
          }
        }
      ]
    },
    {
      "cell_type": "code",
      "source": [
        "resid_HMLP = zero_centre(resid_HMLP)\n",
        "\n",
        "plt.plot(resid_HMLP)\n",
        "plt.show()"
      ],
      "metadata": {
        "colab": {
          "base_uri": "https://localhost:8080/",
          "height": 265
        },
        "id": "zZqJe3K7cAQz",
        "outputId": "37aadaeb-0a7b-4fc6-9729-884eab14ed06"
      },
      "execution_count": 58,
      "outputs": [
        {
          "output_type": "display_data",
          "data": {
            "text/plain": [
              "<Figure size 432x288 with 1 Axes>"
            ],
            "image/png": "[encoded data removed]"
          },
          "metadata": {
            "needs_background": "light"
          }
        }
      ]
    },
    {
      "cell_type": "code",
      "source": [
        "#List comprehension to combine ARIMA and HMLP forecast.\n",
        "pred_hybrid = [a+b for a,b in zip(fc['mean'], resid_HMLP)]"
      ],
      "metadata": {
        "id": "Xhq-Q9jcfSNl"
      },
      "execution_count": 49,
      "outputs": []
    },
    {
      "cell_type": "code",
      "source": [
        "y_test_rescaled, pred_hybrid = equal_size(y_test_rescaled, pred_hybrid)\n",
        "\n",
        "plot_comparison_graph(y_test_rescaled, pred_hybrid)\n",
        "\n",
        "print(\"Error measures for Hybrid:\")\n",
        "calculate_error_measures(y_test_rescaled, pred_hybrid)"
      ],
      "metadata": {
        "colab": {
          "base_uri": "https://localhost:8080/",
          "height": 501
        },
        "id": "a0B4HjqWfXb_",
        "outputId": "b78eac3c-8719-41b1-be9c-8c41f88db014"
      },
      "execution_count": 59,
      "outputs": [
        {
          "output_type": "display_data",
          "data": {
            "text/plain": [
              "<Figure size 792x432 with 1 Axes>"
            ],
            "image/png": "[encoded data removed]"
          },
          "metadata": {
            "needs_background": "light"
          }
        },
        {
          "output_type": "stream",
          "name": "stdout",
          "text": [
            "Error measures for Hybrid:\n",
            "Mean Squared Error:  126441830.34905751\n",
            "Mean Absolute Error:  7908.412760416667\n"
          ]
        },
        {
          "output_type": "execute_result",
          "data": {
            "text/plain": [
              "[126441830.34905751, 7908.412760416667]"
            ]
          },
          "metadata": {},
          "execution_count": 59
        }
      ]
    },
    {
      "cell_type": "code",
      "source": [
        ""
      ],
      "metadata": {
        "id": "t3TWR5dQfkix"
      },
      "execution_count": null,
      "outputs": []
    }
  ]
}