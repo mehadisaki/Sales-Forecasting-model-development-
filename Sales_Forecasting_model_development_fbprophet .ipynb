{
  "nbformat": 4,
  "nbformat_minor": 0,
  "metadata": {
    "colab": {
      "name": "Sales Forecasting model development_fbprophet .ipynb",
      "provenance": [],
      "collapsed_sections": [],
      "authorship_tag": "ABX9TyMmiFssHjqk9F1vXMuZKMhi",
      "include_colab_link": true
    },
    "kernelspec": {
      "name": "python3",
      "display_name": "Python 3"
    },
    "language_info": {
      "name": "python"
    }
  },
  "cells": [
    {
      "cell_type": "markdown",
      "metadata": {
        "id": "view-in-github",
        "colab_type": "text"
      },
      "source": [
        "<a href=\"https://colab.research.google.com/github/mehadisaki/Sales-Forecasting-model-development-/blob/main/Sales_Forecasting_model_development_fbprophet%C2%A0.ipynb\" target=\"_parent\"><img src=\"https://colab.research.google.com/assets/colab-badge.svg\" alt=\"Open In Colab\"/></a>"
      ]
    },
    {
      "cell_type": "code",
      "execution_count": null,
      "metadata": {
        "id": "ijwcpgIOs3So"
      },
      "outputs": [],
      "source": [
        "#! pip install fbprophet"
      ]
    },
    {
      "cell_type": "code",
      "source": [
        "import pandas as pd\n",
        "from fbprophet import Prophet\n",
        "import numpy as np\n",
        "import matplotlib.pyplot as plt\n",
        "from pandas.plotting import autocorrelation_plot\n",
        "from sklearn.model_selection import train_test_split\n",
        "from sklearn.metrics import mean_squared_error, mean_absolute_error"
      ],
      "metadata": {
        "id": "DtISImWes7AV"
      },
      "execution_count": null,
      "outputs": []
    },
    {
      "cell_type": "code",
      "source": [
        "from google.colab import drive\n",
        "drive.mount('/content/gdrive')\n",
        "images_dir = '/content/gdrive/My Drive/TS - forcast project/image'"
      ],
      "metadata": {
        "colab": {
          "base_uri": "https://localhost:8080/"
        },
        "id": "YXKw1aDUFqIm",
        "outputId": "9eb3ea64-2483-47f2-c54d-68fda97729a8"
      },
      "execution_count": null,
      "outputs": [
        {
          "output_type": "stream",
          "name": "stdout",
          "text": [
            "Mounted at /content/gdrive\n"
          ]
        }
      ]
    },
    {
      "cell_type": "code",
      "source": [
        "# check prophet version\n",
        "import fbprophet\n",
        "# print version number\n",
        "print('Prophet %s' % fbprophet.__version__)\n"
      ],
      "metadata": {
        "colab": {
          "base_uri": "https://localhost:8080/"
        },
        "id": "rUgJ0eqNwIIX",
        "outputId": "40c236f4-8c45-409f-8dc2-bcbd87d2c9ff"
      },
      "execution_count": null,
      "outputs": [
        {
          "output_type": "stream",
          "name": "stdout",
          "text": [
            "Prophet 0.7.1\n"
          ]
        }
      ]
    },
    {
      "cell_type": "markdown",
      "source": [
        "# Data"
      ],
      "metadata": {
        "id": "RZvfK3aQs8ho"
      }
    },
    {
      "cell_type": "code",
      "source": [
        "url = 'https://github.com/mehadisaki/Sales-Forecasting-model-development-/blob/main/TV%20Delivery_2016-2022.xlsx?raw=true'\n",
        "# taking link from view raw'\n",
        "\n",
        "## indexing with datetime\n",
        "df =pd.read_excel(url,index_col='Month',parse_dates=['Month'])\n",
        "df.sort_index(inplace = True)\n"
      ],
      "metadata": {
        "id": "wJHq9y6ks68E"
      },
      "execution_count": null,
      "outputs": []
    },
    {
      "cell_type": "code",
      "source": [
        "df.index"
      ],
      "metadata": {
        "colab": {
          "base_uri": "https://localhost:8080/"
        },
        "id": "qeLnL-T7yzRL",
        "outputId": "4c156dd9-7bc7-497e-e21c-60e4e184c795"
      },
      "execution_count": null,
      "outputs": [
        {
          "output_type": "execute_result",
          "data": {
            "text/plain": [
              "DatetimeIndex(['2016-01-01', '2016-01-01', '2016-01-01', '2016-01-01',\n",
              "               '2016-01-01', '2016-01-01', '2016-01-01', '2016-01-01',\n",
              "               '2016-02-01', '2016-02-01',\n",
              "               ...\n",
              "               '2022-02-01', '2022-02-01', '2022-02-01', '2022-02-01',\n",
              "               '2022-03-01', '2022-03-01', '2022-03-01', '2022-03-01',\n",
              "               '2022-03-01', '2022-03-01'],\n",
              "              dtype='datetime64[ns]', name='Month', length=632, freq=None)"
            ]
          },
          "metadata": {},
          "execution_count": 115
        }
      ]
    },
    {
      "cell_type": "code",
      "source": [
        "# select 32\" TV\n",
        "#. selecting delivery and time data fro dataframe\n",
        "df32= df.loc[df[\"SIZE\"] == \"32\\\" ( 813 mm )\"]\n"
      ],
      "metadata": {
        "id": "ShpRzLZYs64s"
      },
      "execution_count": null,
      "outputs": []
    },
    {
      "cell_type": "code",
      "source": [
        "df32.head()"
      ],
      "metadata": {
        "colab": {
          "base_uri": "https://localhost:8080/",
          "height": 238
        },
        "id": "OFi3cVvItbU-",
        "outputId": "bcfa1458-4f9c-4153-84f8-6681c46b4a93"
      },
      "execution_count": null,
      "outputs": [
        {
          "output_type": "execute_result",
          "data": {
            "text/plain": [
              "                      SIZE  Year  Delivery\n",
              "Month                                     \n",
              "2016-01-01  32\" ( 813 mm )  2016      4513\n",
              "2016-02-01  32\" ( 813 mm )  2016      5225\n",
              "2016-03-01  32\" ( 813 mm )  2016      5583\n",
              "2016-04-01  32\" ( 813 mm )  2016      5493\n",
              "2016-05-01  32\" ( 813 mm )  2016      4864"
            ],
            "text/html": [
              "\n",
              "  <div id=\"df-e4ae8b02-58cc-472a-b74b-67d9c2ab19a1\">\n",
              "    <div class=\"colab-df-container\">\n",
              "      <div>\n",
              "<style scoped>\n",
              "    .dataframe tbody tr th:only-of-type {\n",
              "        vertical-align: middle;\n",
              "    }\n",
              "\n",
              "    .dataframe tbody tr th {\n",
              "        vertical-align: top;\n",
              "    }\n",
              "\n",
              "    .dataframe thead th {\n",
              "        text-align: right;\n",
              "    }\n",
              "</style>\n",
              "<table border=\"1\" class=\"dataframe\">\n",
              "  <thead>\n",
              "    <tr style=\"text-align: right;\">\n",
              "      <th></th>\n",
              "      <th>SIZE</th>\n",
              "      <th>Year</th>\n",
              "      <th>Delivery</th>\n",
              "    </tr>\n",
              "    <tr>\n",
              "      <th>Month</th>\n",
              "      <th></th>\n",
              "      <th></th>\n",
              "      <th></th>\n",
              "    </tr>\n",
              "  </thead>\n",
              "  <tbody>\n",
              "    <tr>\n",
              "      <th>2016-01-01</th>\n",
              "      <td>32\" ( 813 mm )</td>\n",
              "      <td>2016</td>\n",
              "      <td>4513</td>\n",
              "    </tr>\n",
              "    <tr>\n",
              "      <th>2016-02-01</th>\n",
              "      <td>32\" ( 813 mm )</td>\n",
              "      <td>2016</td>\n",
              "      <td>5225</td>\n",
              "    </tr>\n",
              "    <tr>\n",
              "      <th>2016-03-01</th>\n",
              "      <td>32\" ( 813 mm )</td>\n",
              "      <td>2016</td>\n",
              "      <td>5583</td>\n",
              "    </tr>\n",
              "    <tr>\n",
              "      <th>2016-04-01</th>\n",
              "      <td>32\" ( 813 mm )</td>\n",
              "      <td>2016</td>\n",
              "      <td>5493</td>\n",
              "    </tr>\n",
              "    <tr>\n",
              "      <th>2016-05-01</th>\n",
              "      <td>32\" ( 813 mm )</td>\n",
              "      <td>2016</td>\n",
              "      <td>4864</td>\n",
              "    </tr>\n",
              "  </tbody>\n",
              "</table>\n",
              "</div>\n",
              "      <button class=\"colab-df-convert\" onclick=\"convertToInteractive('df-e4ae8b02-58cc-472a-b74b-67d9c2ab19a1')\"\n",
              "              title=\"Convert this dataframe to an interactive table.\"\n",
              "              style=\"display:none;\">\n",
              "        \n",
              "  <svg xmlns=\"http://www.w3.org/2000/svg\" height=\"24px\"viewBox=\"0 0 24 24\"\n",
              "       width=\"24px\">\n",
              "    <path d=\"M0 0h24v24H0V0z\" fill=\"none\"/>\n",
              "    <path d=\"M18.56 5.44l.94 2.06.94-2.06 2.06-.94-2.06-.94-.94-2.06-.94 2.06-2.06.94zm-11 1L8.5 8.5l.94-2.06 2.06-.94-2.06-.94L8.5 2.5l-.94 2.06-2.06.94zm10 10l.94 2.06.94-2.06 2.06-.94-2.06-.94-.94-2.06-.94 2.06-2.06.94z\"/><path d=\"M17.41 7.96l-1.37-1.37c-.4-.4-.92-.59-1.43-.59-.52 0-1.04.2-1.43.59L10.3 9.45l-7.72 7.72c-.78.78-.78 2.05 0 2.83L4 21.41c.39.39.9.59 1.41.59.51 0 1.02-.2 1.41-.59l7.78-7.78 2.81-2.81c.8-.78.8-2.07 0-2.86zM5.41 20L4 18.59l7.72-7.72 1.47 1.35L5.41 20z\"/>\n",
              "  </svg>\n",
              "      </button>\n",
              "      \n",
              "  <style>\n",
              "    .colab-df-container {\n",
              "      display:flex;\n",
              "      flex-wrap:wrap;\n",
              "      gap: 12px;\n",
              "    }\n",
              "\n",
              "    .colab-df-convert {\n",
              "      background-color: #E8F0FE;\n",
              "      border: none;\n",
              "      border-radius: 50%;\n",
              "      cursor: pointer;\n",
              "      display: none;\n",
              "      fill: #1967D2;\n",
              "      height: 32px;\n",
              "      padding: 0 0 0 0;\n",
              "      width: 32px;\n",
              "    }\n",
              "\n",
              "    .colab-df-convert:hover {\n",
              "      background-color: #E2EBFA;\n",
              "      box-shadow: 0px 1px 2px rgba(60, 64, 67, 0.3), 0px 1px 3px 1px rgba(60, 64, 67, 0.15);\n",
              "      fill: #174EA6;\n",
              "    }\n",
              "\n",
              "    [theme=dark] .colab-df-convert {\n",
              "      background-color: #3B4455;\n",
              "      fill: #D2E3FC;\n",
              "    }\n",
              "\n",
              "    [theme=dark] .colab-df-convert:hover {\n",
              "      background-color: #434B5C;\n",
              "      box-shadow: 0px 1px 3px 1px rgba(0, 0, 0, 0.15);\n",
              "      filter: drop-shadow(0px 1px 2px rgba(0, 0, 0, 0.3));\n",
              "      fill: #FFFFFF;\n",
              "    }\n",
              "  </style>\n",
              "\n",
              "      <script>\n",
              "        const buttonEl =\n",
              "          document.querySelector('#df-e4ae8b02-58cc-472a-b74b-67d9c2ab19a1 button.colab-df-convert');\n",
              "        buttonEl.style.display =\n",
              "          google.colab.kernel.accessAllowed ? 'block' : 'none';\n",
              "\n",
              "        async function convertToInteractive(key) {\n",
              "          const element = document.querySelector('#df-e4ae8b02-58cc-472a-b74b-67d9c2ab19a1');\n",
              "          const dataTable =\n",
              "            await google.colab.kernel.invokeFunction('convertToInteractive',\n",
              "                                                     [key], {});\n",
              "          if (!dataTable) return;\n",
              "\n",
              "          const docLinkHtml = 'Like what you see? Visit the ' +\n",
              "            '<a target=\"_blank\" href=https://colab.research.google.com/notebooks/data_table.ipynb>data table notebook</a>'\n",
              "            + ' to learn more about interactive tables.';\n",
              "          element.innerHTML = '';\n",
              "          dataTable['output_type'] = 'display_data';\n",
              "          await google.colab.output.renderOutput(dataTable, element);\n",
              "          const docLink = document.createElement('div');\n",
              "          docLink.innerHTML = docLinkHtml;\n",
              "          element.appendChild(docLink);\n",
              "        }\n",
              "      </script>\n",
              "    </div>\n",
              "  </div>\n",
              "  "
            ]
          },
          "metadata": {},
          "execution_count": 121
        }
      ]
    },
    {
      "cell_type": "code",
      "source": [
        "df32.reset_index(inplace=True)\n",
        "data = df32.rename(columns = {'index':'date'})\n"
      ],
      "metadata": {
        "id": "sPGs-n33770N"
      },
      "execution_count": null,
      "outputs": []
    },
    {
      "cell_type": "code",
      "source": [
        "data = data[['Month','Delivery']]\n",
        "data.columns= ['ds','y']"
      ],
      "metadata": {
        "id": "iRA1loFXs62O"
      },
      "execution_count": null,
      "outputs": []
    },
    {
      "cell_type": "code",
      "source": [
        "data.head()"
      ],
      "metadata": {
        "colab": {
          "base_uri": "https://localhost:8080/",
          "height": 206
        },
        "id": "fgi5bKH_uMI0",
        "outputId": "f9070de4-144f-4602-8a40-e542fa4a73ea"
      },
      "execution_count": null,
      "outputs": [
        {
          "output_type": "execute_result",
          "data": {
            "text/plain": [
              "          ds     y\n",
              "0 2016-01-01  4513\n",
              "1 2016-02-01  5225\n",
              "2 2016-03-01  5583\n",
              "3 2016-04-01  5493\n",
              "4 2016-05-01  4864"
            ],
            "text/html": [
              "\n",
              "  <div id=\"df-f1687adf-f9d0-459f-a45f-8b3ee8736b79\">\n",
              "    <div class=\"colab-df-container\">\n",
              "      <div>\n",
              "<style scoped>\n",
              "    .dataframe tbody tr th:only-of-type {\n",
              "        vertical-align: middle;\n",
              "    }\n",
              "\n",
              "    .dataframe tbody tr th {\n",
              "        vertical-align: top;\n",
              "    }\n",
              "\n",
              "    .dataframe thead th {\n",
              "        text-align: right;\n",
              "    }\n",
              "</style>\n",
              "<table border=\"1\" class=\"dataframe\">\n",
              "  <thead>\n",
              "    <tr style=\"text-align: right;\">\n",
              "      <th></th>\n",
              "      <th>ds</th>\n",
              "      <th>y</th>\n",
              "    </tr>\n",
              "  </thead>\n",
              "  <tbody>\n",
              "    <tr>\n",
              "      <th>0</th>\n",
              "      <td>2016-01-01</td>\n",
              "      <td>4513</td>\n",
              "    </tr>\n",
              "    <tr>\n",
              "      <th>1</th>\n",
              "      <td>2016-02-01</td>\n",
              "      <td>5225</td>\n",
              "    </tr>\n",
              "    <tr>\n",
              "      <th>2</th>\n",
              "      <td>2016-03-01</td>\n",
              "      <td>5583</td>\n",
              "    </tr>\n",
              "    <tr>\n",
              "      <th>3</th>\n",
              "      <td>2016-04-01</td>\n",
              "      <td>5493</td>\n",
              "    </tr>\n",
              "    <tr>\n",
              "      <th>4</th>\n",
              "      <td>2016-05-01</td>\n",
              "      <td>4864</td>\n",
              "    </tr>\n",
              "  </tbody>\n",
              "</table>\n",
              "</div>\n",
              "      <button class=\"colab-df-convert\" onclick=\"convertToInteractive('df-f1687adf-f9d0-459f-a45f-8b3ee8736b79')\"\n",
              "              title=\"Convert this dataframe to an interactive table.\"\n",
              "              style=\"display:none;\">\n",
              "        \n",
              "  <svg xmlns=\"http://www.w3.org/2000/svg\" height=\"24px\"viewBox=\"0 0 24 24\"\n",
              "       width=\"24px\">\n",
              "    <path d=\"M0 0h24v24H0V0z\" fill=\"none\"/>\n",
              "    <path d=\"M18.56 5.44l.94 2.06.94-2.06 2.06-.94-2.06-.94-.94-2.06-.94 2.06-2.06.94zm-11 1L8.5 8.5l.94-2.06 2.06-.94-2.06-.94L8.5 2.5l-.94 2.06-2.06.94zm10 10l.94 2.06.94-2.06 2.06-.94-2.06-.94-.94-2.06-.94 2.06-2.06.94z\"/><path d=\"M17.41 7.96l-1.37-1.37c-.4-.4-.92-.59-1.43-.59-.52 0-1.04.2-1.43.59L10.3 9.45l-7.72 7.72c-.78.78-.78 2.05 0 2.83L4 21.41c.39.39.9.59 1.41.59.51 0 1.02-.2 1.41-.59l7.78-7.78 2.81-2.81c.8-.78.8-2.07 0-2.86zM5.41 20L4 18.59l7.72-7.72 1.47 1.35L5.41 20z\"/>\n",
              "  </svg>\n",
              "      </button>\n",
              "      \n",
              "  <style>\n",
              "    .colab-df-container {\n",
              "      display:flex;\n",
              "      flex-wrap:wrap;\n",
              "      gap: 12px;\n",
              "    }\n",
              "\n",
              "    .colab-df-convert {\n",
              "      background-color: #E8F0FE;\n",
              "      border: none;\n",
              "      border-radius: 50%;\n",
              "      cursor: pointer;\n",
              "      display: none;\n",
              "      fill: #1967D2;\n",
              "      height: 32px;\n",
              "      padding: 0 0 0 0;\n",
              "      width: 32px;\n",
              "    }\n",
              "\n",
              "    .colab-df-convert:hover {\n",
              "      background-color: #E2EBFA;\n",
              "      box-shadow: 0px 1px 2px rgba(60, 64, 67, 0.3), 0px 1px 3px 1px rgba(60, 64, 67, 0.15);\n",
              "      fill: #174EA6;\n",
              "    }\n",
              "\n",
              "    [theme=dark] .colab-df-convert {\n",
              "      background-color: #3B4455;\n",
              "      fill: #D2E3FC;\n",
              "    }\n",
              "\n",
              "    [theme=dark] .colab-df-convert:hover {\n",
              "      background-color: #434B5C;\n",
              "      box-shadow: 0px 1px 3px 1px rgba(0, 0, 0, 0.15);\n",
              "      filter: drop-shadow(0px 1px 2px rgba(0, 0, 0, 0.3));\n",
              "      fill: #FFFFFF;\n",
              "    }\n",
              "  </style>\n",
              "\n",
              "      <script>\n",
              "        const buttonEl =\n",
              "          document.querySelector('#df-f1687adf-f9d0-459f-a45f-8b3ee8736b79 button.colab-df-convert');\n",
              "        buttonEl.style.display =\n",
              "          google.colab.kernel.accessAllowed ? 'block' : 'none';\n",
              "\n",
              "        async function convertToInteractive(key) {\n",
              "          const element = document.querySelector('#df-f1687adf-f9d0-459f-a45f-8b3ee8736b79');\n",
              "          const dataTable =\n",
              "            await google.colab.kernel.invokeFunction('convertToInteractive',\n",
              "                                                     [key], {});\n",
              "          if (!dataTable) return;\n",
              "\n",
              "          const docLinkHtml = 'Like what you see? Visit the ' +\n",
              "            '<a target=\"_blank\" href=https://colab.research.google.com/notebooks/data_table.ipynb>data table notebook</a>'\n",
              "            + ' to learn more about interactive tables.';\n",
              "          element.innerHTML = '';\n",
              "          dataTable['output_type'] = 'display_data';\n",
              "          await google.colab.output.renderOutput(dataTable, element);\n",
              "          const docLink = document.createElement('div');\n",
              "          docLink.innerHTML = docLinkHtml;\n",
              "          element.appendChild(docLink);\n",
              "        }\n",
              "      </script>\n",
              "    </div>\n",
              "  </div>\n",
              "  "
            ]
          },
          "metadata": {},
          "execution_count": 133
        }
      ]
    },
    {
      "cell_type": "code",
      "source": [
        "#Split into test and train data\n",
        "train_data, test_data = train_test_split(data, test_size=0.20, shuffle = False)\n",
        "\n",
        "print(test_data)"
      ],
      "metadata": {
        "colab": {
          "base_uri": "https://localhost:8080/"
        },
        "id": "sG42CEFtxeo_",
        "outputId": "3ff0cc0d-f231-4f80-8bf2-c2c5d794b01b"
      },
      "execution_count": null,
      "outputs": [
        {
          "output_type": "stream",
          "name": "stdout",
          "text": [
            "           ds      y\n",
            "60 2021-01-01  22280\n",
            "61 2021-02-01  24766\n",
            "62 2021-03-01  35036\n",
            "63 2021-04-01  23637\n",
            "64 2021-05-01  20327\n",
            "65 2021-06-01  24397\n",
            "66 2021-07-01  18657\n",
            "67 2021-08-01  16855\n",
            "68 2021-09-01  39200\n",
            "69 2021-10-01  20594\n",
            "70 2021-11-01  18689\n",
            "71 2021-12-01  15909\n",
            "72 2022-01-01  22520\n",
            "73 2022-02-01  26059\n",
            "74 2022-03-01  24387\n"
          ]
        }
      ]
    },
    {
      "cell_type": "code",
      "source": [
        "# create test dataset, remove last 6 months\n",
        "#train = data.drop(data.index[-6:])\n",
        "#test = data.iloc[len(data)-12:]"
      ],
      "metadata": {
        "id": "gbgUY4V_6U90"
      },
      "execution_count": null,
      "outputs": []
    },
    {
      "cell_type": "code",
      "source": [
        "# define the model\n",
        "model = Prophet()\n",
        "# fit the mode\n",
        "fbfit= model.fit(train_data)\n",
        "#future = fbfit.make_future_dataframe(periods=3,freq='MS')\n",
        "prophet_pred = fbfit.predict(test_data)"
      ],
      "metadata": {
        "colab": {
          "base_uri": "https://localhost:8080/"
        },
        "id": "EFPNJO6WxAPZ",
        "outputId": "b42dc91e-2760-41ee-ffaf-5ce7e4cee06c"
      },
      "execution_count": null,
      "outputs": [
        {
          "output_type": "stream",
          "name": "stderr",
          "text": [
            "INFO:fbprophet:Disabling weekly seasonality. Run prophet with weekly_seasonality=True to override this.\n",
            "INFO:fbprophet:Disabling daily seasonality. Run prophet with daily_seasonality=True to override this.\n"
          ]
        }
      ]
    },
    {
      "cell_type": "code",
      "source": [
        "prophet_pred.tail()"
      ],
      "metadata": {
        "colab": {
          "base_uri": "https://localhost:8080/",
          "height": 357
        },
        "id": "Yq0OdWglx0aY",
        "outputId": "035dfc9a-0886-4aab-9332-b4e4c6fb32b1"
      },
      "execution_count": null,
      "outputs": [
        {
          "output_type": "execute_result",
          "data": {
            "text/plain": [
              "           ds         trend    yhat_lower    yhat_upper   trend_lower  \\\n",
              "10 2021-11-01  28956.350855  18223.468323  34936.048081  28956.350257   \n",
              "11 2021-12-01  29282.497516  23479.672307  40030.134373  29282.496833   \n",
              "12 2022-01-01  29619.515732  25036.716431  40970.092329  29619.514914   \n",
              "13 2022-02-01  29956.533948  22067.167655  38125.145868  29956.533031   \n",
              "14 2022-03-01  30260.937499  21182.697454  37694.967316  30260.936490   \n",
              "\n",
              "     trend_upper  additive_terms  additive_terms_lower  additive_terms_upper  \\\n",
              "10  28956.351398    -2116.514453          -2116.514453          -2116.514453   \n",
              "11  29282.498153     2796.478925           2796.478925           2796.478925   \n",
              "12  29619.516464     3121.941069           3121.941069           3121.941069   \n",
              "13  29956.534769      294.849308            294.849308            294.849308   \n",
              "14  30260.938405     -833.135484           -833.135484           -833.135484   \n",
              "\n",
              "         yearly  yearly_lower  yearly_upper  multiplicative_terms  \\\n",
              "10 -2116.514453  -2116.514453  -2116.514453                   0.0   \n",
              "11  2796.478925   2796.478925   2796.478925                   0.0   \n",
              "12  3121.941069   3121.941069   3121.941069                   0.0   \n",
              "13   294.849308    294.849308    294.849308                   0.0   \n",
              "14  -833.135484   -833.135484   -833.135484                   0.0   \n",
              "\n",
              "    multiplicative_terms_lower  multiplicative_terms_upper          yhat  \n",
              "10                         0.0                         0.0  26839.836402  \n",
              "11                         0.0                         0.0  32078.976441  \n",
              "12                         0.0                         0.0  32741.456801  \n",
              "13                         0.0                         0.0  30251.383256  \n",
              "14                         0.0                         0.0  29427.802015  "
            ],
            "text/html": [
              "\n",
              "  <div id=\"df-1ba2359b-2d35-4da7-91e6-1e102a4ad355\">\n",
              "    <div class=\"colab-df-container\">\n",
              "      <div>\n",
              "<style scoped>\n",
              "    .dataframe tbody tr th:only-of-type {\n",
              "        vertical-align: middle;\n",
              "    }\n",
              "\n",
              "    .dataframe tbody tr th {\n",
              "        vertical-align: top;\n",
              "    }\n",
              "\n",
              "    .dataframe thead th {\n",
              "        text-align: right;\n",
              "    }\n",
              "</style>\n",
              "<table border=\"1\" class=\"dataframe\">\n",
              "  <thead>\n",
              "    <tr style=\"text-align: right;\">\n",
              "      <th></th>\n",
              "      <th>ds</th>\n",
              "      <th>trend</th>\n",
              "      <th>yhat_lower</th>\n",
              "      <th>yhat_upper</th>\n",
              "      <th>trend_lower</th>\n",
              "      <th>trend_upper</th>\n",
              "      <th>additive_terms</th>\n",
              "      <th>additive_terms_lower</th>\n",
              "      <th>additive_terms_upper</th>\n",
              "      <th>yearly</th>\n",
              "      <th>yearly_lower</th>\n",
              "      <th>yearly_upper</th>\n",
              "      <th>multiplicative_terms</th>\n",
              "      <th>multiplicative_terms_lower</th>\n",
              "      <th>multiplicative_terms_upper</th>\n",
              "      <th>yhat</th>\n",
              "    </tr>\n",
              "  </thead>\n",
              "  <tbody>\n",
              "    <tr>\n",
              "      <th>10</th>\n",
              "      <td>2021-11-01</td>\n",
              "      <td>28956.350855</td>\n",
              "      <td>18223.468323</td>\n",
              "      <td>34936.048081</td>\n",
              "      <td>28956.350257</td>\n",
              "      <td>28956.351398</td>\n",
              "      <td>-2116.514453</td>\n",
              "      <td>-2116.514453</td>\n",
              "      <td>-2116.514453</td>\n",
              "      <td>-2116.514453</td>\n",
              "      <td>-2116.514453</td>\n",
              "      <td>-2116.514453</td>\n",
              "      <td>0.0</td>\n",
              "      <td>0.0</td>\n",
              "      <td>0.0</td>\n",
              "      <td>26839.836402</td>\n",
              "    </tr>\n",
              "    <tr>\n",
              "      <th>11</th>\n",
              "      <td>2021-12-01</td>\n",
              "      <td>29282.497516</td>\n",
              "      <td>23479.672307</td>\n",
              "      <td>40030.134373</td>\n",
              "      <td>29282.496833</td>\n",
              "      <td>29282.498153</td>\n",
              "      <td>2796.478925</td>\n",
              "      <td>2796.478925</td>\n",
              "      <td>2796.478925</td>\n",
              "      <td>2796.478925</td>\n",
              "      <td>2796.478925</td>\n",
              "      <td>2796.478925</td>\n",
              "      <td>0.0</td>\n",
              "      <td>0.0</td>\n",
              "      <td>0.0</td>\n",
              "      <td>32078.976441</td>\n",
              "    </tr>\n",
              "    <tr>\n",
              "      <th>12</th>\n",
              "      <td>2022-01-01</td>\n",
              "      <td>29619.515732</td>\n",
              "      <td>25036.716431</td>\n",
              "      <td>40970.092329</td>\n",
              "      <td>29619.514914</td>\n",
              "      <td>29619.516464</td>\n",
              "      <td>3121.941069</td>\n",
              "      <td>3121.941069</td>\n",
              "      <td>3121.941069</td>\n",
              "      <td>3121.941069</td>\n",
              "      <td>3121.941069</td>\n",
              "      <td>3121.941069</td>\n",
              "      <td>0.0</td>\n",
              "      <td>0.0</td>\n",
              "      <td>0.0</td>\n",
              "      <td>32741.456801</td>\n",
              "    </tr>\n",
              "    <tr>\n",
              "      <th>13</th>\n",
              "      <td>2022-02-01</td>\n",
              "      <td>29956.533948</td>\n",
              "      <td>22067.167655</td>\n",
              "      <td>38125.145868</td>\n",
              "      <td>29956.533031</td>\n",
              "      <td>29956.534769</td>\n",
              "      <td>294.849308</td>\n",
              "      <td>294.849308</td>\n",
              "      <td>294.849308</td>\n",
              "      <td>294.849308</td>\n",
              "      <td>294.849308</td>\n",
              "      <td>294.849308</td>\n",
              "      <td>0.0</td>\n",
              "      <td>0.0</td>\n",
              "      <td>0.0</td>\n",
              "      <td>30251.383256</td>\n",
              "    </tr>\n",
              "    <tr>\n",
              "      <th>14</th>\n",
              "      <td>2022-03-01</td>\n",
              "      <td>30260.937499</td>\n",
              "      <td>21182.697454</td>\n",
              "      <td>37694.967316</td>\n",
              "      <td>30260.936490</td>\n",
              "      <td>30260.938405</td>\n",
              "      <td>-833.135484</td>\n",
              "      <td>-833.135484</td>\n",
              "      <td>-833.135484</td>\n",
              "      <td>-833.135484</td>\n",
              "      <td>-833.135484</td>\n",
              "      <td>-833.135484</td>\n",
              "      <td>0.0</td>\n",
              "      <td>0.0</td>\n",
              "      <td>0.0</td>\n",
              "      <td>29427.802015</td>\n",
              "    </tr>\n",
              "  </tbody>\n",
              "</table>\n",
              "</div>\n",
              "      <button class=\"colab-df-convert\" onclick=\"convertToInteractive('df-1ba2359b-2d35-4da7-91e6-1e102a4ad355')\"\n",
              "              title=\"Convert this dataframe to an interactive table.\"\n",
              "              style=\"display:none;\">\n",
              "        \n",
              "  <svg xmlns=\"http://www.w3.org/2000/svg\" height=\"24px\"viewBox=\"0 0 24 24\"\n",
              "       width=\"24px\">\n",
              "    <path d=\"M0 0h24v24H0V0z\" fill=\"none\"/>\n",
              "    <path d=\"M18.56 5.44l.94 2.06.94-2.06 2.06-.94-2.06-.94-.94-2.06-.94 2.06-2.06.94zm-11 1L8.5 8.5l.94-2.06 2.06-.94-2.06-.94L8.5 2.5l-.94 2.06-2.06.94zm10 10l.94 2.06.94-2.06 2.06-.94-2.06-.94-.94-2.06-.94 2.06-2.06.94z\"/><path d=\"M17.41 7.96l-1.37-1.37c-.4-.4-.92-.59-1.43-.59-.52 0-1.04.2-1.43.59L10.3 9.45l-7.72 7.72c-.78.78-.78 2.05 0 2.83L4 21.41c.39.39.9.59 1.41.59.51 0 1.02-.2 1.41-.59l7.78-7.78 2.81-2.81c.8-.78.8-2.07 0-2.86zM5.41 20L4 18.59l7.72-7.72 1.47 1.35L5.41 20z\"/>\n",
              "  </svg>\n",
              "      </button>\n",
              "      \n",
              "  <style>\n",
              "    .colab-df-container {\n",
              "      display:flex;\n",
              "      flex-wrap:wrap;\n",
              "      gap: 12px;\n",
              "    }\n",
              "\n",
              "    .colab-df-convert {\n",
              "      background-color: #E8F0FE;\n",
              "      border: none;\n",
              "      border-radius: 50%;\n",
              "      cursor: pointer;\n",
              "      display: none;\n",
              "      fill: #1967D2;\n",
              "      height: 32px;\n",
              "      padding: 0 0 0 0;\n",
              "      width: 32px;\n",
              "    }\n",
              "\n",
              "    .colab-df-convert:hover {\n",
              "      background-color: #E2EBFA;\n",
              "      box-shadow: 0px 1px 2px rgba(60, 64, 67, 0.3), 0px 1px 3px 1px rgba(60, 64, 67, 0.15);\n",
              "      fill: #174EA6;\n",
              "    }\n",
              "\n",
              "    [theme=dark] .colab-df-convert {\n",
              "      background-color: #3B4455;\n",
              "      fill: #D2E3FC;\n",
              "    }\n",
              "\n",
              "    [theme=dark] .colab-df-convert:hover {\n",
              "      background-color: #434B5C;\n",
              "      box-shadow: 0px 1px 3px 1px rgba(0, 0, 0, 0.15);\n",
              "      filter: drop-shadow(0px 1px 2px rgba(0, 0, 0, 0.3));\n",
              "      fill: #FFFFFF;\n",
              "    }\n",
              "  </style>\n",
              "\n",
              "      <script>\n",
              "        const buttonEl =\n",
              "          document.querySelector('#df-1ba2359b-2d35-4da7-91e6-1e102a4ad355 button.colab-df-convert');\n",
              "        buttonEl.style.display =\n",
              "          google.colab.kernel.accessAllowed ? 'block' : 'none';\n",
              "\n",
              "        async function convertToInteractive(key) {\n",
              "          const element = document.querySelector('#df-1ba2359b-2d35-4da7-91e6-1e102a4ad355');\n",
              "          const dataTable =\n",
              "            await google.colab.kernel.invokeFunction('convertToInteractive',\n",
              "                                                     [key], {});\n",
              "          if (!dataTable) return;\n",
              "\n",
              "          const docLinkHtml = 'Like what you see? Visit the ' +\n",
              "            '<a target=\"_blank\" href=https://colab.research.google.com/notebooks/data_table.ipynb>data table notebook</a>'\n",
              "            + ' to learn more about interactive tables.';\n",
              "          element.innerHTML = '';\n",
              "          dataTable['output_type'] = 'display_data';\n",
              "          await google.colab.output.renderOutput(dataTable, element);\n",
              "          const docLink = document.createElement('div');\n",
              "          docLink.innerHTML = docLinkHtml;\n",
              "          element.appendChild(docLink);\n",
              "        }\n",
              "      </script>\n",
              "    </div>\n",
              "  </div>\n",
              "  "
            ]
          },
          "metadata": {},
          "execution_count": 154
        }
      ]
    },
    {
      "cell_type": "code",
      "source": [
        "print(prophet_pred[['ds', 'yhat', 'yhat_lower', 'yhat_upper']].head())\n",
        "# plot forecast\n",
        "plt.plot(test_data['y'].values, label='Actual')\n",
        "plt.plot(prophet_pred['yhat'].values,label='predict' )\n",
        "plt.legend()\n",
        "plt.savefig('fbprophet_test.png')\n",
        "plt.savefig(f\"{images_dir}/fbprophet_test.png\")\n",
        "plt.show()\n"
      ],
      "metadata": {
        "colab": {
          "base_uri": "https://localhost:8080/",
          "height": 370
        },
        "id": "n126717dycBQ",
        "outputId": "20b0d38d-733c-4a13-d8a2-140cdb5fc6c4"
      },
      "execution_count": null,
      "outputs": [
        {
          "output_type": "stream",
          "name": "stdout",
          "text": [
            "          ds          yhat    yhat_lower    yhat_upper\n",
            "0 2021-01-01  30708.842069  22539.126043  39112.156214\n",
            "1 2021-02-01  29699.186825  21446.435550  37897.012436\n",
            "2 2021-03-01  26493.525209  17976.574514  35010.477098\n",
            "3 2021-04-01  25485.290849  16746.817500  33775.059525\n",
            "4 2021-05-01  27327.006704  18721.420894  35878.468584\n"
          ]
        },
        {
          "output_type": "display_data",
          "data": {
            "text/plain": [
              "<Figure size 432x288 with 1 Axes>"
            ],
            "image/png": "[encoded data removed]"
          },
          "metadata": {
            "needs_background": "light"
          }
        }
      ]
    },
    {
      "cell_type": "code",
      "source": [
        "def calculate_error_measures(X, Y):\n",
        "    \n",
        "    \"\"\"\n",
        "    Function to calculate the mean squared error, mean absolute error and the coefficient of determination (r2) between two lists.\n",
        "    ...\n",
        "    Attributes\n",
        "    ----------\n",
        "    X : list\n",
        "    \n",
        "    Y : list\n",
        "    \n",
        "    \"\"\"\n",
        "    \n",
        "        \n",
        "    MSE = mean_squared_error(X, Y)\n",
        "    print('Mean Squared Error(MSE): ', MSE)\n",
        "    \n",
        "    MAE = mean_absolute_error(X, Y)\n",
        "    print('Mean Absolute Error(MAE): ', MAE)\n",
        "    RMSE =mean_squared_error(X, Y,squared=False)\n",
        "    print('Root Mean Squared Error(RMSE):', RMSE )\n",
        "    #squared bool, default=True If True returns MSE value, if False returns RMSE value.\n",
        "    error_measures = [MSE, MAE,RMSE]\n",
        "    return error_measures"
      ],
      "metadata": {
        "id": "s5_J1gvqDIfZ"
      },
      "execution_count": null,
      "outputs": []
    },
    {
      "cell_type": "code",
      "source": [
        "calculate_error_measures(test_data['y'], prophet_pred['yhat'])"
      ],
      "metadata": {
        "colab": {
          "base_uri": "https://localhost:8080/"
        },
        "id": "nnYah0lODaGZ",
        "outputId": "7a38109c-7f37-462c-acf8-aed243189d54"
      },
      "execution_count": null,
      "outputs": [
        {
          "output_type": "stream",
          "name": "stdout",
          "text": [
            "Mean Squared Error(MSE):  86558302.29763132\n",
            "Mean Absolute Error(MAE):  8486.68945381835\n",
            "Root Mean Squared Error(RMSE): 9303.671441835815\n"
          ]
        },
        {
          "output_type": "execute_result",
          "data": {
            "text/plain": [
              "[86558302.29763132, 8486.68945381835, 9303.671441835815]"
            ]
          },
          "metadata": {},
          "execution_count": 162
        }
      ]
    },
    {
      "cell_type": "code",
      "source": [
        "# define the model\n",
        "model = Prophet()\n",
        "# fit the mode\n",
        "fbfit= model.fit(data)\n",
        "#future = fbfit.make_future_dataframe(periods=6,freq='MS')\n",
        "fprophet_pred = fbfit.predict(data)\n",
        "\n"
      ],
      "metadata": {
        "colab": {
          "base_uri": "https://localhost:8080/"
        },
        "id": "GmbDiTb1DqJ3",
        "outputId": "3fc9c363-5fb4-4a99-8e0e-a1c2e916d0ef"
      },
      "execution_count": null,
      "outputs": [
        {
          "output_type": "stream",
          "name": "stderr",
          "text": [
            "INFO:fbprophet:Disabling weekly seasonality. Run prophet with weekly_seasonality=True to override this.\n",
            "INFO:fbprophet:Disabling daily seasonality. Run prophet with daily_seasonality=True to override this.\n"
          ]
        }
      ]
    },
    {
      "cell_type": "code",
      "source": [
        "calculate_error_measures(data['y'], fprophet_pred['yhat'])"
      ],
      "metadata": {
        "colab": {
          "base_uri": "https://localhost:8080/"
        },
        "id": "zXgbxy3HEEQ9",
        "outputId": "fa46b63e-a3eb-41e5-8c0d-3566c31b65cc"
      },
      "execution_count": null,
      "outputs": [
        {
          "output_type": "stream",
          "name": "stdout",
          "text": [
            "Mean Squared Error(MSE):  45006515.80189352\n",
            "Mean Absolute Error(MAE):  5510.201754215954\n",
            "Root Mean Squared Error(RMSE): 6708.689574119041\n"
          ]
        },
        {
          "output_type": "execute_result",
          "data": {
            "text/plain": [
              "[45006515.80189352, 5510.201754215954, 6708.689574119041]"
            ]
          },
          "metadata": {},
          "execution_count": 175
        }
      ]
    },
    {
      "cell_type": "code",
      "source": [
        "print(fprophet_pred[['ds', 'yhat', 'yhat_lower', 'yhat_upper']].head())\n",
        "# plot forecast\n",
        "plt.plot(data['y'].values, label='Actual')\n",
        "plt.plot(fprophet_pred['yhat'].values,label='predict' )\n",
        "\n",
        "plt.legend()\n",
        "plt.savefig('fbprophet_f.png')\n",
        "plt.savefig(f\"{images_dir}/fbprophet_f.png\")\n",
        "plt.show()"
      ],
      "metadata": {
        "colab": {
          "base_uri": "https://localhost:8080/",
          "height": 369
        },
        "id": "mPnMWCt5EPSL",
        "outputId": "dfe5cf1d-a2b7-4cbf-d4a9-fc55db3019e8"
      },
      "execution_count": null,
      "outputs": [
        {
          "output_type": "stream",
          "name": "stdout",
          "text": [
            "          ds          yhat   yhat_lower    yhat_upper\n",
            "0 2016-01-01   6222.718753 -2561.694299  14463.719816\n",
            "1 2016-02-01   1241.849244 -7103.498078  10040.602332\n",
            "2 2016-03-01  12053.087375  3607.543330  20792.191565\n",
            "3 2016-04-01   3988.188827 -4671.855707  12286.725670\n",
            "4 2016-05-01   6519.743888 -2741.954041  15700.136631\n"
          ]
        },
        {
          "output_type": "display_data",
          "data": {
            "text/plain": [
              "<Figure size 432x288 with 1 Axes>"
            ],
            "image/png": "[encoded data removed]"
          },
          "metadata": {
            "needs_background": "light"
          }
        }
      ]
    },
    {
      "cell_type": "code",
      "source": [
        "model.plot(fprophet_pred)\n",
        "plt.savefig('fbprophet_m.png')\n",
        "plt.savefig(f\"{images_dir}/fbprophet_m.png\")\n",
        "plt.show()"
      ],
      "metadata": {
        "colab": {
          "base_uri": "https://localhost:8080/",
          "height": 441
        },
        "id": "TlXyMvFnETbj",
        "outputId": "c3fd882c-d24c-427d-d559-9752e9b78693"
      },
      "execution_count": null,
      "outputs": [
        {
          "output_type": "display_data",
          "data": {
            "text/plain": [
              "<Figure size 720x432 with 1 Axes>"
            ],
            "image/png": "[encoded data removed]"
          },
          "metadata": {}
        }
      ]
    },
    {
      "cell_type": "code",
      "source": [
        ""
      ],
      "metadata": {
        "id": "VLX7QNuTFMGo"
      },
      "execution_count": null,
      "outputs": []
    }
  ]
}